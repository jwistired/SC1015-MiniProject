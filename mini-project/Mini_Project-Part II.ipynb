{
 "cells": [
  {
   "cell_type": "code",
   "execution_count": 1,
   "metadata": {
    "id": "CjgRGNs3ttSN"
   },
   "outputs": [],
   "source": [
    "import tensorflow as tf\n",
    "import nltk\n",
    "import numpy as np\n",
    "import os\n",
    "import time\n",
    "import pandas as pd\n",
    "import csv\n",
    "import string\n",
    "import re"
   ]
  },
  {
   "cell_type": "code",
   "execution_count": 2,
   "metadata": {},
   "outputs": [
    {
     "name": "stdout",
     "output_type": "stream",
     "text": [
      "Num of GPUs available:  13\n"
     ]
    }
   ],
   "source": [
    "print(\"Num of GPUs available: \", len(tf.test.gpu_device_name()))"
   ]
  },
  {
   "cell_type": "code",
   "execution_count": 3,
   "metadata": {
    "colab": {
     "base_uri": "https://localhost:8080/"
    },
    "id": "aLlSzH-Yj9c0",
    "outputId": "e4177f0d-7896-478f-fa16-d4329d738a67"
   },
   "outputs": [
    {
     "name": "stdin",
     "output_type": "stream",
     "text": [
      "Which genre:  Adventure\n"
     ]
    }
   ],
   "source": [
    "genre = input(\"Which genre: \")"
   ]
  },
  {
   "cell_type": "code",
   "execution_count": 4,
   "metadata": {
    "id": "bjCegxeSkHRY"
   },
   "outputs": [],
   "source": [
    "data = pd.read_csv('games.csv')"
   ]
  },
  {
   "cell_type": "code",
   "execution_count": 5,
   "metadata": {
    "colab": {
     "base_uri": "https://localhost:8080/",
     "height": 672
    },
    "id": "yP8MlvHcvv0G",
    "outputId": "cde0d911-546b-4794-9894-1832e3088e0e"
   },
   "outputs": [
    {
     "data": {
      "text/html": [
       "<div>\n",
       "<style scoped>\n",
       "    .dataframe tbody tr th:only-of-type {\n",
       "        vertical-align: middle;\n",
       "    }\n",
       "\n",
       "    .dataframe tbody tr th {\n",
       "        vertical-align: top;\n",
       "    }\n",
       "\n",
       "    .dataframe thead th {\n",
       "        text-align: right;\n",
       "    }\n",
       "</style>\n",
       "<table border=\"1\" class=\"dataframe\">\n",
       "  <thead>\n",
       "    <tr style=\"text-align: right;\">\n",
       "      <th></th>\n",
       "      <th>AppID</th>\n",
       "      <th>Name</th>\n",
       "      <th>Release date</th>\n",
       "      <th>Estimated owners</th>\n",
       "      <th>Peak CCU</th>\n",
       "      <th>Required age</th>\n",
       "      <th>Price</th>\n",
       "      <th>DLC count</th>\n",
       "      <th>About the game</th>\n",
       "      <th>Supported languages</th>\n",
       "      <th>...</th>\n",
       "      <th>Average playtime two weeks</th>\n",
       "      <th>Median playtime forever</th>\n",
       "      <th>Median playtime two weeks</th>\n",
       "      <th>Developers</th>\n",
       "      <th>Publishers</th>\n",
       "      <th>Categories</th>\n",
       "      <th>Genres</th>\n",
       "      <th>Tags</th>\n",
       "      <th>Screenshots</th>\n",
       "      <th>Movies</th>\n",
       "    </tr>\n",
       "  </thead>\n",
       "  <tbody>\n",
       "    <tr>\n",
       "      <th>0</th>\n",
       "      <td>20200</td>\n",
       "      <td>Galactic Bowling</td>\n",
       "      <td>Oct 21, 2008</td>\n",
       "      <td>0 - 20000</td>\n",
       "      <td>0</td>\n",
       "      <td>0</td>\n",
       "      <td>19.99</td>\n",
       "      <td>0</td>\n",
       "      <td>Galactic Bowling is an exaggerated and stylize...</td>\n",
       "      <td>['English']</td>\n",
       "      <td>...</td>\n",
       "      <td>0</td>\n",
       "      <td>0</td>\n",
       "      <td>0</td>\n",
       "      <td>Perpetual FX Creative</td>\n",
       "      <td>Perpetual FX Creative</td>\n",
       "      <td>Single-player,Multi-player,Steam Achievements,...</td>\n",
       "      <td>Casual,Indie,Sports</td>\n",
       "      <td>Indie,Casual,Sports,Bowling</td>\n",
       "      <td>https://cdn.akamai.steamstatic.com/steam/apps/...</td>\n",
       "      <td>http://cdn.akamai.steamstatic.com/steam/apps/2...</td>\n",
       "    </tr>\n",
       "    <tr>\n",
       "      <th>1</th>\n",
       "      <td>655370</td>\n",
       "      <td>Train Bandit</td>\n",
       "      <td>Oct 12, 2017</td>\n",
       "      <td>0 - 20000</td>\n",
       "      <td>0</td>\n",
       "      <td>0</td>\n",
       "      <td>0.99</td>\n",
       "      <td>0</td>\n",
       "      <td>THE LAW!! Looks to be a showdown atop a train....</td>\n",
       "      <td>['English', 'French', 'Italian', 'German', 'Sp...</td>\n",
       "      <td>...</td>\n",
       "      <td>0</td>\n",
       "      <td>0</td>\n",
       "      <td>0</td>\n",
       "      <td>Rusty Moyher</td>\n",
       "      <td>Wild Rooster</td>\n",
       "      <td>Single-player,Steam Achievements,Full controll...</td>\n",
       "      <td>Action,Indie</td>\n",
       "      <td>Indie,Action,Pixel Graphics,2D,Retro,Arcade,Sc...</td>\n",
       "      <td>https://cdn.akamai.steamstatic.com/steam/apps/...</td>\n",
       "      <td>http://cdn.akamai.steamstatic.com/steam/apps/2...</td>\n",
       "    </tr>\n",
       "    <tr>\n",
       "      <th>2</th>\n",
       "      <td>1732930</td>\n",
       "      <td>Jolt Project</td>\n",
       "      <td>Nov 17, 2021</td>\n",
       "      <td>0 - 20000</td>\n",
       "      <td>0</td>\n",
       "      <td>0</td>\n",
       "      <td>4.99</td>\n",
       "      <td>0</td>\n",
       "      <td>Jolt Project: The army now has a new robotics ...</td>\n",
       "      <td>['English', 'Portuguese - Brazil']</td>\n",
       "      <td>...</td>\n",
       "      <td>0</td>\n",
       "      <td>0</td>\n",
       "      <td>0</td>\n",
       "      <td>Campião Games</td>\n",
       "      <td>Campião Games</td>\n",
       "      <td>Single-player</td>\n",
       "      <td>Action,Adventure,Indie,Strategy</td>\n",
       "      <td>NaN</td>\n",
       "      <td>https://cdn.akamai.steamstatic.com/steam/apps/...</td>\n",
       "      <td>http://cdn.akamai.steamstatic.com/steam/apps/2...</td>\n",
       "    </tr>\n",
       "    <tr>\n",
       "      <th>3</th>\n",
       "      <td>1355720</td>\n",
       "      <td>Henosis™</td>\n",
       "      <td>Jul 23, 2020</td>\n",
       "      <td>0 - 20000</td>\n",
       "      <td>0</td>\n",
       "      <td>0</td>\n",
       "      <td>5.99</td>\n",
       "      <td>0</td>\n",
       "      <td>HENOSIS™ is a mysterious 2D Platform Puzzler w...</td>\n",
       "      <td>['English', 'French', 'Italian', 'German', 'Sp...</td>\n",
       "      <td>...</td>\n",
       "      <td>0</td>\n",
       "      <td>0</td>\n",
       "      <td>0</td>\n",
       "      <td>Odd Critter Games</td>\n",
       "      <td>Odd Critter Games</td>\n",
       "      <td>Single-player,Full controller support</td>\n",
       "      <td>Adventure,Casual,Indie</td>\n",
       "      <td>2D Platformer,Atmospheric,Surreal,Mystery,Puzz...</td>\n",
       "      <td>https://cdn.akamai.steamstatic.com/steam/apps/...</td>\n",
       "      <td>http://cdn.akamai.steamstatic.com/steam/apps/2...</td>\n",
       "    </tr>\n",
       "    <tr>\n",
       "      <th>4</th>\n",
       "      <td>1139950</td>\n",
       "      <td>Two Weeks in Painland</td>\n",
       "      <td>Feb 3, 2020</td>\n",
       "      <td>0 - 20000</td>\n",
       "      <td>0</td>\n",
       "      <td>0</td>\n",
       "      <td>0.00</td>\n",
       "      <td>0</td>\n",
       "      <td>ABOUT THE GAME Play as a hacker who has arrang...</td>\n",
       "      <td>['English', 'Spanish - Spain']</td>\n",
       "      <td>...</td>\n",
       "      <td>0</td>\n",
       "      <td>0</td>\n",
       "      <td>0</td>\n",
       "      <td>Unusual Games</td>\n",
       "      <td>Unusual Games</td>\n",
       "      <td>Single-player,Steam Achievements</td>\n",
       "      <td>Adventure,Indie</td>\n",
       "      <td>Indie,Adventure,Nudity,Violent,Sexual Content,...</td>\n",
       "      <td>https://cdn.akamai.steamstatic.com/steam/apps/...</td>\n",
       "      <td>http://cdn.akamai.steamstatic.com/steam/apps/2...</td>\n",
       "    </tr>\n",
       "  </tbody>\n",
       "</table>\n",
       "<p>5 rows × 39 columns</p>\n",
       "</div>"
      ],
      "text/plain": [
       "     AppID                   Name  Release date Estimated owners  Peak CCU  \\\n",
       "0    20200       Galactic Bowling  Oct 21, 2008        0 - 20000         0   \n",
       "1   655370           Train Bandit  Oct 12, 2017        0 - 20000         0   \n",
       "2  1732930           Jolt Project  Nov 17, 2021        0 - 20000         0   \n",
       "3  1355720               Henosis™  Jul 23, 2020        0 - 20000         0   \n",
       "4  1139950  Two Weeks in Painland   Feb 3, 2020        0 - 20000         0   \n",
       "\n",
       "   Required age  Price  DLC count  \\\n",
       "0             0  19.99          0   \n",
       "1             0   0.99          0   \n",
       "2             0   4.99          0   \n",
       "3             0   5.99          0   \n",
       "4             0   0.00          0   \n",
       "\n",
       "                                      About the game  \\\n",
       "0  Galactic Bowling is an exaggerated and stylize...   \n",
       "1  THE LAW!! Looks to be a showdown atop a train....   \n",
       "2  Jolt Project: The army now has a new robotics ...   \n",
       "3  HENOSIS™ is a mysterious 2D Platform Puzzler w...   \n",
       "4  ABOUT THE GAME Play as a hacker who has arrang...   \n",
       "\n",
       "                                 Supported languages  ...  \\\n",
       "0                                        ['English']  ...   \n",
       "1  ['English', 'French', 'Italian', 'German', 'Sp...  ...   \n",
       "2                 ['English', 'Portuguese - Brazil']  ...   \n",
       "3  ['English', 'French', 'Italian', 'German', 'Sp...  ...   \n",
       "4                     ['English', 'Spanish - Spain']  ...   \n",
       "\n",
       "  Average playtime two weeks Median playtime forever  \\\n",
       "0                          0                       0   \n",
       "1                          0                       0   \n",
       "2                          0                       0   \n",
       "3                          0                       0   \n",
       "4                          0                       0   \n",
       "\n",
       "  Median playtime two weeks             Developers             Publishers  \\\n",
       "0                         0  Perpetual FX Creative  Perpetual FX Creative   \n",
       "1                         0           Rusty Moyher           Wild Rooster   \n",
       "2                         0          Campião Games          Campião Games   \n",
       "3                         0      Odd Critter Games      Odd Critter Games   \n",
       "4                         0          Unusual Games          Unusual Games   \n",
       "\n",
       "                                          Categories  \\\n",
       "0  Single-player,Multi-player,Steam Achievements,...   \n",
       "1  Single-player,Steam Achievements,Full controll...   \n",
       "2                                      Single-player   \n",
       "3              Single-player,Full controller support   \n",
       "4                   Single-player,Steam Achievements   \n",
       "\n",
       "                            Genres  \\\n",
       "0              Casual,Indie,Sports   \n",
       "1                     Action,Indie   \n",
       "2  Action,Adventure,Indie,Strategy   \n",
       "3           Adventure,Casual,Indie   \n",
       "4                  Adventure,Indie   \n",
       "\n",
       "                                                Tags  \\\n",
       "0                        Indie,Casual,Sports,Bowling   \n",
       "1  Indie,Action,Pixel Graphics,2D,Retro,Arcade,Sc...   \n",
       "2                                                NaN   \n",
       "3  2D Platformer,Atmospheric,Surreal,Mystery,Puzz...   \n",
       "4  Indie,Adventure,Nudity,Violent,Sexual Content,...   \n",
       "\n",
       "                                         Screenshots  \\\n",
       "0  https://cdn.akamai.steamstatic.com/steam/apps/...   \n",
       "1  https://cdn.akamai.steamstatic.com/steam/apps/...   \n",
       "2  https://cdn.akamai.steamstatic.com/steam/apps/...   \n",
       "3  https://cdn.akamai.steamstatic.com/steam/apps/...   \n",
       "4  https://cdn.akamai.steamstatic.com/steam/apps/...   \n",
       "\n",
       "                                              Movies  \n",
       "0  http://cdn.akamai.steamstatic.com/steam/apps/2...  \n",
       "1  http://cdn.akamai.steamstatic.com/steam/apps/2...  \n",
       "2  http://cdn.akamai.steamstatic.com/steam/apps/2...  \n",
       "3  http://cdn.akamai.steamstatic.com/steam/apps/2...  \n",
       "4  http://cdn.akamai.steamstatic.com/steam/apps/2...  \n",
       "\n",
       "[5 rows x 39 columns]"
      ]
     },
     "execution_count": 5,
     "metadata": {},
     "output_type": "execute_result"
    }
   ],
   "source": [
    "data.head()"
   ]
  },
  {
   "cell_type": "code",
   "execution_count": 6,
   "metadata": {
    "id": "er7kWqL9v1xp"
   },
   "outputs": [],
   "source": [
    "data2 = pd.DataFrame(data[[\"Name\",\"Estimated owners\",\"Genres\",\"About the game\"]])"
   ]
  },
  {
   "cell_type": "code",
   "execution_count": 7,
   "metadata": {
    "id": "rewQk_vSxB5l"
   },
   "outputs": [],
   "source": [
    "data2 = data2[data2['Genres'].str.contains(genre)==True]"
   ]
  },
  {
   "cell_type": "code",
   "execution_count": 8,
   "metadata": {},
   "outputs": [],
   "source": [
    "data2 = data2[data2['Estimated owners'].str.contains('0 - 20000')==False]"
   ]
  },
  {
   "cell_type": "code",
   "execution_count": 9,
   "metadata": {},
   "outputs": [],
   "source": [
    "data2 = data2[data2['Estimated owners'].str.contains('0 - 0')==False]"
   ]
  },
  {
   "cell_type": "code",
   "execution_count": 10,
   "metadata": {
    "colab": {
     "base_uri": "https://localhost:8080/",
     "height": 424
    },
    "id": "peLVlpPtwFqy",
    "outputId": "eb210fa3-e973-4a48-ea60-83e042b03449"
   },
   "outputs": [
    {
     "data": {
      "text/html": [
       "<div>\n",
       "<style scoped>\n",
       "    .dataframe tbody tr th:only-of-type {\n",
       "        vertical-align: middle;\n",
       "    }\n",
       "\n",
       "    .dataframe tbody tr th {\n",
       "        vertical-align: top;\n",
       "    }\n",
       "\n",
       "    .dataframe thead th {\n",
       "        text-align: right;\n",
       "    }\n",
       "</style>\n",
       "<table border=\"1\" class=\"dataframe\">\n",
       "  <thead>\n",
       "    <tr style=\"text-align: right;\">\n",
       "      <th></th>\n",
       "      <th>Name</th>\n",
       "      <th>Estimated owners</th>\n",
       "      <th>Genres</th>\n",
       "      <th>About the game</th>\n",
       "    </tr>\n",
       "  </thead>\n",
       "  <tbody>\n",
       "    <tr>\n",
       "      <th>5</th>\n",
       "      <td>Wartune Reborn</td>\n",
       "      <td>50000 - 100000</td>\n",
       "      <td>Adventure,Casual,Free to Play,Massively Multip...</td>\n",
       "      <td>Feel tired of auto-fight? Feel tired of boring...</td>\n",
       "    </tr>\n",
       "    <tr>\n",
       "      <th>9</th>\n",
       "      <td>Deadlings: Rotten Edition</td>\n",
       "      <td>50000 - 100000</td>\n",
       "      <td>Action,Adventure,Indie</td>\n",
       "      <td>Death is lonely. He has zero friends on his Fa...</td>\n",
       "    </tr>\n",
       "    <tr>\n",
       "      <th>21</th>\n",
       "      <td>Project: R.E.B.O.O.T 2</td>\n",
       "      <td>20000 - 50000</td>\n",
       "      <td>Action,Adventure,Casual,Indie</td>\n",
       "      <td>Meet the continuation of the hardcore platform...</td>\n",
       "    </tr>\n",
       "    <tr>\n",
       "      <th>23</th>\n",
       "      <td>Turtle Lu</td>\n",
       "      <td>20000 - 50000</td>\n",
       "      <td>Action,Adventure,Casual,Indie</td>\n",
       "      <td>Turtle Lu Turtle Lu is an old-school Action-Ad...</td>\n",
       "    </tr>\n",
       "    <tr>\n",
       "      <th>33</th>\n",
       "      <td>Unhappy Ever After</td>\n",
       "      <td>20000 - 50000</td>\n",
       "      <td>Adventure,Indie,RPG</td>\n",
       "      <td>'In the infinitesimal spaces between the pages...</td>\n",
       "    </tr>\n",
       "    <tr>\n",
       "      <th>...</th>\n",
       "      <td>...</td>\n",
       "      <td>...</td>\n",
       "      <td>...</td>\n",
       "      <td>...</td>\n",
       "    </tr>\n",
       "    <tr>\n",
       "      <th>71524</th>\n",
       "      <td>Beyond Polaris Guardian</td>\n",
       "      <td>20000 - 50000</td>\n",
       "      <td>Action,Adventure,RPG,Early Access</td>\n",
       "      <td>Military schools serve as a crucial step for r...</td>\n",
       "    </tr>\n",
       "    <tr>\n",
       "      <th>71534</th>\n",
       "      <td>GunSoul Girl 2</td>\n",
       "      <td>50000 - 100000</td>\n",
       "      <td>Adventure,RPG,Early Access</td>\n",
       "      <td>'GunSoul Girl 2' is a third-person shooting ga...</td>\n",
       "    </tr>\n",
       "    <tr>\n",
       "      <th>71542</th>\n",
       "      <td>The Adventures of LinShanHai - Chapter3:The He...</td>\n",
       "      <td>20000 - 50000</td>\n",
       "      <td>Adventure,Indie,Simulation</td>\n",
       "      <td>第三案:尸色 案件简介: 有人报告一个废弃厂房最近恶臭难闻，有人发现房梁上挂着一具腐烂的尸体...</td>\n",
       "    </tr>\n",
       "    <tr>\n",
       "      <th>71585</th>\n",
       "      <td>The Last Worker</td>\n",
       "      <td>200000 - 500000</td>\n",
       "      <td>Adventure,Indie</td>\n",
       "      <td>The Last Worker is an immersive narrative adve...</td>\n",
       "    </tr>\n",
       "    <tr>\n",
       "      <th>71667</th>\n",
       "      <td>The Last of Us™ Part I</td>\n",
       "      <td>500000 - 1000000</td>\n",
       "      <td>Action,Adventure</td>\n",
       "      <td>Experience the emotional storytelling and unfo...</td>\n",
       "    </tr>\n",
       "  </tbody>\n",
       "</table>\n",
       "<p>5710 rows × 4 columns</p>\n",
       "</div>"
      ],
      "text/plain": [
       "                                                    Name  Estimated owners  \\\n",
       "5                                         Wartune Reborn    50000 - 100000   \n",
       "9                              Deadlings: Rotten Edition    50000 - 100000   \n",
       "21                                Project: R.E.B.O.O.T 2     20000 - 50000   \n",
       "23                                             Turtle Lu     20000 - 50000   \n",
       "33                                    Unhappy Ever After     20000 - 50000   \n",
       "...                                                  ...               ...   \n",
       "71524                            Beyond Polaris Guardian     20000 - 50000   \n",
       "71534                                     GunSoul Girl 2    50000 - 100000   \n",
       "71542  The Adventures of LinShanHai - Chapter3:The He...     20000 - 50000   \n",
       "71585                                    The Last Worker   200000 - 500000   \n",
       "71667                             The Last of Us™ Part I  500000 - 1000000   \n",
       "\n",
       "                                                  Genres  \\\n",
       "5      Adventure,Casual,Free to Play,Massively Multip...   \n",
       "9                                 Action,Adventure,Indie   \n",
       "21                         Action,Adventure,Casual,Indie   \n",
       "23                         Action,Adventure,Casual,Indie   \n",
       "33                                   Adventure,Indie,RPG   \n",
       "...                                                  ...   \n",
       "71524                  Action,Adventure,RPG,Early Access   \n",
       "71534                         Adventure,RPG,Early Access   \n",
       "71542                         Adventure,Indie,Simulation   \n",
       "71585                                    Adventure,Indie   \n",
       "71667                                   Action,Adventure   \n",
       "\n",
       "                                          About the game  \n",
       "5      Feel tired of auto-fight? Feel tired of boring...  \n",
       "9      Death is lonely. He has zero friends on his Fa...  \n",
       "21     Meet the continuation of the hardcore platform...  \n",
       "23     Turtle Lu Turtle Lu is an old-school Action-Ad...  \n",
       "33     'In the infinitesimal spaces between the pages...  \n",
       "...                                                  ...  \n",
       "71524  Military schools serve as a crucial step for r...  \n",
       "71534  'GunSoul Girl 2' is a third-person shooting ga...  \n",
       "71542  第三案:尸色 案件简介: 有人报告一个废弃厂房最近恶臭难闻，有人发现房梁上挂着一具腐烂的尸体...  \n",
       "71585  The Last Worker is an immersive narrative adve...  \n",
       "71667  Experience the emotional storytelling and unfo...  \n",
       "\n",
       "[5710 rows x 4 columns]"
      ]
     },
     "execution_count": 10,
     "metadata": {},
     "output_type": "execute_result"
    }
   ],
   "source": [
    "data2"
   ]
  },
  {
   "cell_type": "code",
   "execution_count": 11,
   "metadata": {
    "id": "cXK1yU_70YH_"
   },
   "outputs": [],
   "source": [
    "data2 = data2['About the game'].str.join('')"
   ]
  },
  {
   "cell_type": "code",
   "execution_count": 12,
   "metadata": {
    "colab": {
     "base_uri": "https://localhost:8080/"
    },
    "id": "C9ix8WFE1VWY",
    "outputId": "dddc9c5b-29d7-4af1-a1a8-f1e3ce96fa1d"
   },
   "outputs": [
    {
     "data": {
      "text/plain": [
       "5        Feel tired of auto-fight? Feel tired of boring...\n",
       "9        Death is lonely. He has zero friends on his Fa...\n",
       "21       Meet the continuation of the hardcore platform...\n",
       "23       Turtle Lu Turtle Lu is an old-school Action-Ad...\n",
       "33       'In the infinitesimal spaces between the pages...\n",
       "                               ...                        \n",
       "71524    Military schools serve as a crucial step for r...\n",
       "71534    'GunSoul Girl 2' is a third-person shooting ga...\n",
       "71542    第三案:尸色 案件简介: 有人报告一个废弃厂房最近恶臭难闻，有人发现房梁上挂着一具腐烂的尸体...\n",
       "71585    The Last Worker is an immersive narrative adve...\n",
       "71667    Experience the emotional storytelling and unfo...\n",
       "Name: About the game, Length: 5710, dtype: object"
      ]
     },
     "execution_count": 12,
     "metadata": {},
     "output_type": "execute_result"
    }
   ],
   "source": [
    "data2"
   ]
  },
  {
   "cell_type": "code",
   "execution_count": 13,
   "metadata": {
    "id": "4W82YdEwxMtf"
   },
   "outputs": [],
   "source": [
    "text = data2.str.cat(sep = ' ')"
   ]
  },
  {
   "cell_type": "code",
   "execution_count": 14,
   "metadata": {},
   "outputs": [
    {
     "name": "stderr",
     "output_type": "stream",
     "text": [
      "[nltk_data] Downloading package words to\n",
      "[nltk_data]     C:\\Users\\jerra\\AppData\\Roaming\\nltk_data...\n",
      "[nltk_data]   Package words is already up-to-date!\n"
     ]
    },
    {
     "data": {
      "text/plain": [
       "True"
      ]
     },
     "execution_count": 14,
     "metadata": {},
     "output_type": "execute_result"
    }
   ],
   "source": [
    "nltk.download('words')"
   ]
  },
  {
   "cell_type": "code",
   "execution_count": 14,
   "metadata": {},
   "outputs": [],
   "source": [
    "words = set(nltk.corpus.words.words())\n",
    "printable = set(string.printable)\n",
    "text = \" \".join(w for w in nltk.wordpunct_tokenize(text) if w.lower() in words or not w.isalpha())\n",
    "text = ''.join(filter(lambda x: x in printable, text))\n",
    "text = re.sub(r'\\s([?.,!\"](?:\\s|$))', r'\\1', text)\n",
    "text = re.sub(r\"\\b\\s+'\\b\", r\"'\", text)"
   ]
  },
  {
   "cell_type": "code",
   "execution_count": 15,
   "metadata": {
    "colab": {
     "base_uri": "https://localhost:8080/"
    },
    "id": "x9FogPTqz0hW",
    "outputId": "2fad0452-bc8f-4f0c-efd1-0b6c7d5869d7"
   },
   "outputs": [
    {
     "name": "stdout",
     "output_type": "stream",
     "text": [
      "Length of text: 6548190 characters\n"
     ]
    }
   ],
   "source": [
    "print(f'Length of text: {len(text)} characters')"
   ]
  },
  {
   "cell_type": "code",
   "execution_count": 16,
   "metadata": {
    "colab": {
     "base_uri": "https://localhost:8080/"
    },
    "id": "gUXLGQxh16ad",
    "outputId": "75fcfa6e-256e-48d4-aaf3-6c84b7b21a30"
   },
   "outputs": [
    {
     "name": "stdout",
     "output_type": "stream",
     "text": [
      "Feel tired of auto - fight? Feel tired of boring numerical? Let us try this amazing and exciting game! Right! Reborn is the super popular magic epic game as we know. Now, the magnificent magic epic game, you the classical and great experience. In Cloud City, you are going to the movement, fighting the abyss to protect the world from chaos. Don ' t be nervous! With protection of, Priestess of Light, you will have the power to absorb the chord, incorporate those without into your own, and make contract with and train apotheosis of. You can improve yourself in a series of, wild fighting, occupation and plunder. At the same time, you can run your own ligeance and and ally yourself with other in the world who attack the Chaos. All of you are going to to protect the world from the control and destroy of Drake and bring the brightness back to Cloud City ...... Enter Reborn to enjoy thinking of and the game! 1. simulation, S - semi battle, , occupation & ; make you the best 2. Magical epic and original prominent symphony show the ancient and magnificent medieval chapter. 3. Military organization, and contribute to super power. 4. Sylph awakening, and training, you will to beat BOSS. 5. Explore the magical world of the wild, , and snow freely in the map of the vast outer city, to find mysterious ancient treasure. 6. system cool fashion, ,, weapon appearance with arbitrary combination. Reborn, Magical epic, Expect! Classical you amazing experience! Death is lonely. He zero on his account and no one to out with. So, in order to feel better he  Project. Death a factory where he can build his laboratory and begin training a massive army of zombie. As the army of, the of the laboratory become, loaded with and death - traps. Different have their own unique : is agile - he can run and jump, Creep can climb on and, slowly but carefully and ... well gastric so he can use his powerful gas to fly. You will have to combine all of these to find your way in Death ' s Maze. Can you help Death to kill his boredom? Will you be able to navigate all 60 + available in? Will you complete Project, and successfully train all of your zombie? Arcade side - with strategy! Four different of zombie with unique! 70 of pure zombie gore fun! Additional game mode - Nightmare - only for the! What ' s new in the Rotten Edition? 10 brand new bonus 15 new in Nightmare Mode Steam and Full controller support Nightmare mode unlocked from the beginning Steam Trading and graphics Meet the continuation of the platformer Project : R. E. B. O. O. T! You have to play for the intelligent robot, by the best for the annual tournament ' Project : R. E. B. O. O. T '. The best from all the are their each year, which must pass 30, with deadly traps and various. In the game you expect sea and fun, as well as new, unique and a variety of. Also do not forget that your main goal to reach the end and prove to everyone that you are the best! Turtle Turtle is an old - school Action - Adventure game, Explore immense 2D. Day after day, watched creepy little crawl past his window. Everywhere. Like the pitter patter of on a tin roof, the squirming sensation of crawling under the floor. The days flew by, each like the one before, monotonous. lay down with the sunset every night, and awoke to the cock - a - doodle of the rooster outside every morning. The by, the spring rain, autumn sun, leaves of fall and now snow is falling on the roof. curled up in his shell and fell into a long, deep sleep. Winter was as it always is, and soon the first of the sun broke through the dirty, window. ' It like it ' s time to wake up ' he thought, opening his heavy. As he crept outside his house, he was in for a big surprise. The little had grown into giant, dangerous! Huge, angry bees circled around his home, ready to well, sting! Mad from house to house, everything in their with fearsome needles! ' This outrage must be stopped !' as he set out on his perilous journey : - Beautiful, realistic graphics. - Various. - Pleasant sound effects and music. ' In the infinitesimal between the of every book an unseen universe : smaller perhaps than ours but filled with all the, and, conceivable by the human mind ' Enter into a land of dark fantasy with Sophia, an eighteenth - century librarian ' s apprentice to Queen of. Join her quest to find a way home and help her take revenge on the evil witch that tore her away from her. Discover a world filled with political intrigue as a power - hungry Emperor to wrestle control of the Twelve by use of his magical Affinity, and get caught up in a rebellion where Sophia ' s will help decide the fate of the strange, monster - filled world into which she ' s been swept. Venture with her into, abandoned since the mythical ' Age of '. Share her descent into The Purple, a strange and disturbing underworld where everything for flesh. Help her explore a dark under the curse of an Evil Blight and discover the behind it. Help her make new in a dangerous world, and share in her\n"
     ]
    }
   ],
   "source": [
    "print(text[:5000])"
   ]
  },
  {
   "cell_type": "code",
   "execution_count": 17,
   "metadata": {
    "colab": {
     "base_uri": "https://localhost:8080/"
    },
    "id": "OUhOYvuV3TQ4",
    "outputId": "06360c5c-3262-44ba-d9f0-ca3bf75b55c7"
   },
   "outputs": [
    {
     "name": "stdout",
     "output_type": "stream",
     "text": [
      "92 unique characters\n"
     ]
    }
   ],
   "source": [
    "vocab = sorted(set(text))\n",
    "print(f'{len(vocab)} unique characters')"
   ]
  },
  {
   "cell_type": "code",
   "execution_count": 18,
   "metadata": {},
   "outputs": [
    {
     "name": "stdout",
     "output_type": "stream",
     "text": [
      "[' ', '!', '#', '$', '%', '&', \"'\", '(', ')', '*', '+', ',', '-', '.', '/', '0', '1', '2', '3', '4', '5', '6', '7', '8', '9', ':', ';', '=', '?', '@', 'A', 'B', 'C', 'D', 'E', 'F', 'G', 'H', 'I', 'J', 'K', 'L', 'M', 'N', 'O', 'P', 'Q', 'R', 'S', 'T', 'U', 'V', 'W', 'X', 'Y', 'Z', '[', '\\\\', ']', '^', '_', '`', 'a', 'b', 'c', 'd', 'e', 'f', 'g', 'h', 'i', 'j', 'k', 'l', 'm', 'n', 'o', 'p', 'q', 'r', 's', 't', 'u', 'v', 'w', 'x', 'y', 'z', '{', '|', '}', '~']\n"
     ]
    }
   ],
   "source": [
    "print(vocab)"
   ]
  },
  {
   "cell_type": "code",
   "execution_count": 19,
   "metadata": {
    "id": "wqPKdkUq3Vue"
   },
   "outputs": [],
   "source": [
    "ids_from_chars = tf.keras.layers.StringLookup(\n",
    "    vocabulary=list(vocab), mask_token=None)"
   ]
  },
  {
   "cell_type": "code",
   "execution_count": 20,
   "metadata": {
    "id": "ZXOeERxj3dWi"
   },
   "outputs": [],
   "source": [
    "chars_from_ids = tf.keras.layers.StringLookup(\n",
    "    vocabulary=ids_from_chars.get_vocabulary(), invert=True, mask_token=None)"
   ]
  },
  {
   "cell_type": "code",
   "execution_count": 21,
   "metadata": {
    "id": "mTEQ0T9B4ZRo"
   },
   "outputs": [],
   "source": [
    "def text_from_ids(ids):\n",
    "  return tf.strings.reduce_join(chars_from_ids(ids), axis=-1)"
   ]
  },
  {
   "cell_type": "code",
   "execution_count": 22,
   "metadata": {
    "colab": {
     "base_uri": "https://localhost:8080/"
    },
    "id": "04aDagmn36zl",
    "outputId": "c8166fa2-33b1-4e24-f8e5-1c72fe5e8a10"
   },
   "outputs": [
    {
     "data": {
      "text/plain": [
       "<tf.Tensor: shape=(6548190,), dtype=int64, numpy=array([36, 67, 67, ..., 74, 67, 14], dtype=int64)>"
      ]
     },
     "execution_count": 22,
     "metadata": {},
     "output_type": "execute_result"
    }
   ],
   "source": [
    "all_ids = ids_from_chars(tf.strings.unicode_split(text, 'UTF-8'))\n",
    "all_ids"
   ]
  },
  {
   "cell_type": "code",
   "execution_count": 23,
   "metadata": {
    "id": "m1C46RO83_Lg"
   },
   "outputs": [],
   "source": [
    "ids_dataset = tf.data.Dataset.from_tensor_slices(all_ids)"
   ]
  },
  {
   "cell_type": "code",
   "execution_count": 24,
   "metadata": {
    "colab": {
     "base_uri": "https://localhost:8080/"
    },
    "id": "NXYo-qSG4D_T",
    "outputId": "ab512abc-506b-49eb-813e-cc89836cf77c"
   },
   "outputs": [
    {
     "name": "stdout",
     "output_type": "stream",
     "text": [
      "F\n",
      "e\n",
      "e\n",
      "l\n",
      " \n",
      "t\n",
      "i\n",
      "r\n",
      "e\n",
      "d\n"
     ]
    }
   ],
   "source": [
    "for ids in ids_dataset.take(10):\n",
    "    print(chars_from_ids(ids).numpy().decode('utf-8'))"
   ]
  },
  {
   "cell_type": "code",
   "execution_count": 25,
   "metadata": {
    "colab": {
     "base_uri": "https://localhost:8080/"
    },
    "id": "8Xd5bm0P4Iud",
    "outputId": "3b1ad8d8-6d97-4d00-fd01-9a6ab4b18741"
   },
   "outputs": [
    {
     "name": "stdout",
     "output_type": "stream",
     "text": [
      "tf.Tensor(\n",
      "[b'F' b'e' b'e' b'l' b' ' b't' b'i' b'r' b'e' b'd' b' ' b'o' b'f' b' '\n",
      " b'a' b'u' b't' b'o' b' ' b'-' b' ' b'f' b'i' b'g' b'h' b't' b'?' b' '\n",
      " b'F' b'e' b'e' b'l' b' ' b't' b'i' b'r' b'e' b'd' b' ' b'o' b'f' b' '\n",
      " b'b' b'o' b'r' b'i' b'n' b'g' b' ' b'n' b'u' b'm' b'e' b'r' b'i' b'c'\n",
      " b'a' b'l' b'?' b' ' b'L' b'e' b't' b' ' b'u' b's' b' ' b't' b'r' b'y'\n",
      " b' ' b't' b'h' b'i' b's' b' ' b'a' b'm' b'a' b'z' b'i' b'n' b'g' b' '\n",
      " b'a' b'n' b'd' b' ' b'e' b'x' b'c' b'i' b't' b'i' b'n' b'g' b' ' b'g'\n",
      " b'a' b'm' b'e'], shape=(101,), dtype=string)\n"
     ]
    }
   ],
   "source": [
    "seq_length = 100\n",
    "sequences = ids_dataset.batch(seq_length+1, drop_remainder=True)\n",
    "\n",
    "for seq in sequences.take(1):\n",
    "  print(chars_from_ids(seq))"
   ]
  },
  {
   "cell_type": "code",
   "execution_count": 26,
   "metadata": {
    "colab": {
     "base_uri": "https://localhost:8080/"
    },
    "id": "MDWuLnEN4PJl",
    "outputId": "9b06f7c9-98a1-4e7e-ab91-7394aa0146cc"
   },
   "outputs": [
    {
     "name": "stdout",
     "output_type": "stream",
     "text": [
      "b'Feel tired of auto - fight? Feel tired of boring numerical? Let us try this amazing and exciting game'\n",
      "b'! Right! Reborn is the super popular magic epic game as we know. Now, the magnificent magic epic game'\n",
      "b', you the classical and great experience. In Cloud City, you are going to the movement, fighting the '\n",
      "b\"abyss to protect the world from chaos. Don ' t be nervous! With protection of, Priestess of Light, yo\"\n",
      "b'u will have the power to absorb the chord, incorporate those without into your own, and make contract'\n"
     ]
    }
   ],
   "source": [
    "for seq in sequences.take(5):\n",
    "  print(text_from_ids(seq).numpy())"
   ]
  },
  {
   "cell_type": "code",
   "execution_count": 27,
   "metadata": {
    "id": "FAONLVnu4cdy"
   },
   "outputs": [],
   "source": [
    "def split_input_target(sequence):\n",
    "    input_text = sequence[:-1]\n",
    "    target_text = sequence[1:]\n",
    "    return input_text, target_text"
   ]
  },
  {
   "cell_type": "code",
   "execution_count": 28,
   "metadata": {
    "colab": {
     "base_uri": "https://localhost:8080/"
    },
    "id": "cKMMp4iQ41F-",
    "outputId": "9b0b7c75-8b8e-4597-d5ab-b2d30580c6f1"
   },
   "outputs": [
    {
     "data": {
      "text/plain": [
       "(['T', 'e', 'n', 's', 'o', 'r', 'f', 'l', 'o'],\n",
       " ['e', 'n', 's', 'o', 'r', 'f', 'l', 'o', 'w'])"
      ]
     },
     "execution_count": 28,
     "metadata": {},
     "output_type": "execute_result"
    }
   ],
   "source": [
    "split_input_target(list(\"Tensorflow\"))"
   ]
  },
  {
   "cell_type": "code",
   "execution_count": 29,
   "metadata": {
    "id": "QR5knSv743H8"
   },
   "outputs": [],
   "source": [
    "dataset = sequences.map(split_input_target)"
   ]
  },
  {
   "cell_type": "code",
   "execution_count": 30,
   "metadata": {
    "colab": {
     "base_uri": "https://localhost:8080/"
    },
    "id": "NdBknKSk4491",
    "outputId": "dda16799-fb74-4f28-f4b9-c9d655ec540e"
   },
   "outputs": [
    {
     "name": "stdout",
     "output_type": "stream",
     "text": [
      "Input : b'Feel tired of auto - fight? Feel tired of boring numerical? Let us try this amazing and exciting gam'\n",
      "Target: b'eel tired of auto - fight? Feel tired of boring numerical? Let us try this amazing and exciting game'\n"
     ]
    }
   ],
   "source": [
    "for input_example, target_example in dataset.take(1):\n",
    "    print(\"Input :\", text_from_ids(input_example).numpy())\n",
    "    print(\"Target:\", text_from_ids(target_example).numpy())"
   ]
  },
  {
   "cell_type": "code",
   "execution_count": 31,
   "metadata": {
    "colab": {
     "base_uri": "https://localhost:8080/"
    },
    "id": "UKTUBF6n4ijS",
    "outputId": "4deab971-ea39-4733-d0e0-4ab2447cef9d"
   },
   "outputs": [
    {
     "data": {
      "text/plain": [
       "<PrefetchDataset element_spec=(TensorSpec(shape=(64, 100), dtype=tf.int64, name=None), TensorSpec(shape=(64, 100), dtype=tf.int64, name=None))>"
      ]
     },
     "execution_count": 31,
     "metadata": {},
     "output_type": "execute_result"
    }
   ],
   "source": [
    "# Batch size\n",
    "BATCH_SIZE = 64\n",
    "\n",
    "# Buffer size to shuffle the dataset\n",
    "# (TF data is designed to work with possibly infinite sequences,\n",
    "# so it doesn't attempt to shuffle the entire sequence in memory. Instead,\n",
    "# it maintains a buffer in which it shuffles elements).\n",
    "BUFFER_SIZE = 10000\n",
    "\n",
    "dataset = (\n",
    "    dataset\n",
    "    .shuffle(BUFFER_SIZE)\n",
    "    .batch(BATCH_SIZE, drop_remainder=True)\n",
    "    .prefetch(tf.data.experimental.AUTOTUNE))\n",
    "\n",
    "dataset"
   ]
  },
  {
   "cell_type": "code",
   "execution_count": 32,
   "metadata": {
    "id": "LxXXlUVr4-ju"
   },
   "outputs": [],
   "source": [
    "# Length of the vocabulary in StringLookup Layer\n",
    "vocab_size = len(ids_from_chars.get_vocabulary())\n",
    "\n",
    "# The embedding dimension\n",
    "embedding_dim = 256\n",
    "\n",
    "# Number of RNN units\n",
    "rnn_units = 1024"
   ]
  },
  {
   "cell_type": "code",
   "execution_count": 33,
   "metadata": {
    "id": "G3zZKull4_11"
   },
   "outputs": [],
   "source": [
    "class MyModel(tf.keras.Model):\n",
    "  def __init__(self, vocab_size, embedding_dim, rnn_units):\n",
    "    super().__init__(self)\n",
    "    self.embedding = tf.keras.layers.Embedding(vocab_size, embedding_dim)\n",
    "    self.gru1 = tf.keras.layers.GRU(rnn_units,\n",
    "                                   return_sequences=True,\n",
    "                                   return_state=True)\n",
    "    self.gru2 = tf.keras.layers.GRU(rnn_units, return_sequences=True, return_state=True)\n",
    "    self.dense = tf.keras.layers.Dense(vocab_size)\n",
    "\n",
    "  def call(self, inputs, states=None, return_state=False, training=False):\n",
    "    x = inputs\n",
    "    x = self.embedding(x, training=training)\n",
    "    if states is None:\n",
    "      state1 = self.gru1.get_initial_state(x)\n",
    "      state2 = self.gru2.get_initial_state(x)\n",
    "    else:\n",
    "       state1, state2 = states\n",
    "    x, state1 = self.gru1(x, initial_state=state1, training=training)\n",
    "    x, state2 = self.gru2(x, initial_state=state2, training=training)\n",
    "    x = self.dense(x, training=training)\n",
    "\n",
    "    if return_state:\n",
    "      return x, [state1, state2]\n",
    "\n",
    "    if return_state:\n",
    "      return x, states\n",
    "    else:\n",
    "      return x"
   ]
  },
  {
   "cell_type": "code",
   "execution_count": 34,
   "metadata": {
    "id": "GBTnX06Q5DJo"
   },
   "outputs": [],
   "source": [
    "model = MyModel(\n",
    "    vocab_size=vocab_size,\n",
    "    embedding_dim=embedding_dim,\n",
    "    rnn_units=rnn_units)"
   ]
  },
  {
   "cell_type": "code",
   "execution_count": 35,
   "metadata": {
    "colab": {
     "base_uri": "https://localhost:8080/"
    },
    "id": "V6-MlW1s5FI0",
    "outputId": "9b997a90-19c5-47f5-8d62-f1913c7c3462"
   },
   "outputs": [
    {
     "name": "stdout",
     "output_type": "stream",
     "text": [
      "(64, 100, 93) # (batch_size, sequence_length, vocab_size)\n"
     ]
    }
   ],
   "source": [
    "for input_example_batch, target_example_batch in dataset.take(1):\n",
    "    example_batch_predictions = model(input_example_batch)\n",
    "    print(example_batch_predictions.shape, \"# (batch_size, sequence_length, vocab_size)\")"
   ]
  },
  {
   "cell_type": "code",
   "execution_count": 36,
   "metadata": {
    "colab": {
     "base_uri": "https://localhost:8080/"
    },
    "id": "hKpY8iC15KrW",
    "outputId": "3c8ac828-f1f9-42df-f2c6-75d61d03d8c1"
   },
   "outputs": [
    {
     "name": "stdout",
     "output_type": "stream",
     "text": [
      "Model: \"my_model\"\n",
      "_________________________________________________________________\n",
      " Layer (type)                Output Shape              Param #   \n",
      "=================================================================\n",
      " embedding (Embedding)       multiple                  23808     \n",
      "                                                                 \n",
      " gru (GRU)                   multiple                  3938304   \n",
      "                                                                 \n",
      " gru_1 (GRU)                 multiple                  6297600   \n",
      "                                                                 \n",
      " dense (Dense)               multiple                  95325     \n",
      "                                                                 \n",
      "=================================================================\n",
      "Total params: 10,355,037\n",
      "Trainable params: 10,355,037\n",
      "Non-trainable params: 0\n",
      "_________________________________________________________________\n"
     ]
    }
   ],
   "source": [
    "model.summary()"
   ]
  },
  {
   "cell_type": "code",
   "execution_count": 37,
   "metadata": {
    "id": "07WYB55j5M6k"
   },
   "outputs": [],
   "source": [
    "sampled_indices = tf.random.categorical(example_batch_predictions[0], num_samples=1)\n",
    "sampled_indices = tf.squeeze(sampled_indices, axis=-1).numpy()"
   ]
  },
  {
   "cell_type": "code",
   "execution_count": 38,
   "metadata": {
    "colab": {
     "base_uri": "https://localhost:8080/"
    },
    "id": "UvqxR8V95QQ0",
    "outputId": "52df7c67-5deb-45de-8d8f-475c22b35bf0"
   },
   "outputs": [
    {
     "data": {
      "text/plain": [
       "array([ 8, 48, 87, 50, 53, 55,  5, 25, 35,  1, 56, 92,  3, 34, 32, 87, 44,\n",
       "        6, 12, 72, 64, 59, 13, 81, 58, 45, 70, 70, 42, 92, 13,  3, 61,  1,\n",
       "       33, 23, 63, 74, 13,  8, 47, 87, 24, 27, 19, 16, 21,  4, 12, 76, 72,\n",
       "       22, 18, 35, 82, 77, 26, 63,  6,  2, 32, 26, 56, 21, 49, 63, 88, 14,\n",
       "       40, 86, 66, 19, 13, 24, 81, 38, 60, 58, 32, 35, 82, 82, 71, 69, 10,\n",
       "       91, 17, 52, 39,  5, 62, 50, 43, 52, 73, 79, 47, 67, 43, 37],\n",
       "      dtype=int64)"
      ]
     },
     "execution_count": 38,
     "metadata": {},
     "output_type": "execute_result"
    }
   ],
   "source": [
    "sampled_indices"
   ]
  },
  {
   "cell_type": "code",
   "execution_count": 39,
   "metadata": {
    "id": "j66AtHRs5SEk"
   },
   "outputs": [],
   "source": [
    "loss = tf.losses.SparseCategoricalCrossentropy(from_logits=True)"
   ]
  },
  {
   "cell_type": "code",
   "execution_count": 40,
   "metadata": {
    "colab": {
     "base_uri": "https://localhost:8080/"
    },
    "id": "G7YJiE8B5Wdu",
    "outputId": "4fa216b0-56b9-4ea4-f562-37f0b6f3cd56"
   },
   "outputs": [
    {
     "name": "stdout",
     "output_type": "stream",
     "text": [
      "Prediction shape:  (64, 100, 93)  # (batch_size, sequence_length, vocab_size)\n",
      "Mean loss:         tf.Tensor(4.532525, shape=(), dtype=float32)\n"
     ]
    }
   ],
   "source": [
    "example_batch_mean_loss = loss(target_example_batch, example_batch_predictions)\n",
    "print(\"Prediction shape: \", example_batch_predictions.shape, \" # (batch_size, sequence_length, vocab_size)\")\n",
    "print(\"Mean loss:        \", example_batch_mean_loss)"
   ]
  },
  {
   "cell_type": "code",
   "execution_count": 41,
   "metadata": {
    "colab": {
     "base_uri": "https://localhost:8080/"
    },
    "id": "Zni3537S5ZHy",
    "outputId": "36547e39-f6b9-40aa-85ff-9c2a3c753625"
   },
   "outputs": [
    {
     "data": {
      "text/plain": [
       "92.99308"
      ]
     },
     "execution_count": 41,
     "metadata": {},
     "output_type": "execute_result"
    }
   ],
   "source": [
    "tf.exp(example_batch_mean_loss).numpy()"
   ]
  },
  {
   "cell_type": "code",
   "execution_count": 42,
   "metadata": {
    "id": "xL5tnOzT5c3S"
   },
   "outputs": [],
   "source": [
    "model.compile(optimizer='adam', loss=loss)"
   ]
  },
  {
   "cell_type": "code",
   "execution_count": 43,
   "metadata": {
    "id": "QPcRmXKV5fGD"
   },
   "outputs": [],
   "source": [
    "# Directory where the checkpoints will be saved\n",
    "checkpoint_dir = './training_checkpoints'\n",
    "# Name of the checkpoint files\n",
    "checkpoint_prefix = os.path.join(checkpoint_dir, \"ckpt_{epoch}\")\n",
    "\n",
    "checkpoint_callback = tf.keras.callbacks.ModelCheckpoint(\n",
    "    filepath=checkpoint_prefix,\n",
    "    save_weights_only=True)"
   ]
  },
  {
   "cell_type": "code",
   "execution_count": 44,
   "metadata": {
    "id": "I4LQPro95iyq"
   },
   "outputs": [],
   "source": [
    "EPOCHS = 16"
   ]
  },
  {
   "cell_type": "code",
   "execution_count": 45,
   "metadata": {
    "colab": {
     "base_uri": "https://localhost:8080/"
    },
    "id": "4AkNr1-t5qPr",
    "outputId": "f2308696-d5c5-4aa9-ad16-a2e14554b897",
    "scrolled": true
   },
   "outputs": [
    {
     "name": "stdout",
     "output_type": "stream",
     "text": [
      "Epoch 1/16\n",
      "1013/1013 [==============================] - 74s 69ms/step - loss: 1.7105\n",
      "Epoch 2/16\n",
      "1013/1013 [==============================] - 73s 71ms/step - loss: 1.2701\n",
      "Epoch 3/16\n",
      "1013/1013 [==============================] - 70s 69ms/step - loss: 1.2036\n",
      "Epoch 4/16\n",
      "1013/1013 [==============================] - 71s 70ms/step - loss: 1.1612\n",
      "Epoch 5/16\n",
      "1013/1013 [==============================] - 72s 70ms/step - loss: 1.1269\n",
      "Epoch 6/16\n",
      "1013/1013 [==============================] - 71s 69ms/step - loss: 1.0967\n",
      "Epoch 7/16\n",
      "1013/1013 [==============================] - 71s 69ms/step - loss: 1.0700\n",
      "Epoch 8/16\n",
      "1013/1013 [==============================] - 71s 69ms/step - loss: 1.0455\n",
      "Epoch 9/16\n",
      "1013/1013 [==============================] - 71s 69ms/step - loss: 1.0242\n",
      "Epoch 10/16\n",
      "1013/1013 [==============================] - 70s 69ms/step - loss: 1.0056\n",
      "Epoch 11/16\n",
      "1013/1013 [==============================] - 72s 70ms/step - loss: 0.9899\n",
      "Epoch 12/16\n",
      "1013/1013 [==============================] - 71s 69ms/step - loss: 0.9772\n",
      "Epoch 13/16\n",
      "1013/1013 [==============================] - 71s 69ms/step - loss: 0.9667\n",
      "Epoch 14/16\n",
      "1013/1013 [==============================] - 71s 69ms/step - loss: 0.9584\n",
      "Epoch 15/16\n",
      "1013/1013 [==============================] - 71s 69ms/step - loss: 0.9528\n",
      "Epoch 16/16\n",
      "1013/1013 [==============================] - 71s 69ms/step - loss: 0.9475\n"
     ]
    }
   ],
   "source": [
    "history = model.fit(dataset, epochs=EPOCHS, callbacks=[checkpoint_callback])"
   ]
  },
  {
   "cell_type": "code",
   "execution_count": 46,
   "metadata": {
    "id": "0LGKFeio58v8"
   },
   "outputs": [],
   "source": [
    "class OneStep(tf.keras.Model):\n",
    "  def __init__(self, model, chars_from_ids, ids_from_chars, temperature=1.0):\n",
    "    super().__init__()\n",
    "    self.temperature = temperature\n",
    "    self.model = model\n",
    "    self.chars_from_ids = chars_from_ids\n",
    "    self.ids_from_chars = ids_from_chars\n",
    "\n",
    "    # Create a mask to prevent \"[UNK]\" from being generated.\n",
    "    skip_ids = self.ids_from_chars(['[UNK]'])[:, None]\n",
    "    sparse_mask = tf.SparseTensor(\n",
    "        # Put a -inf at each bad index.\n",
    "        values=[-float('inf')]*len(skip_ids),\n",
    "        indices=skip_ids,\n",
    "        # Match the shape to the vocabulary\n",
    "        dense_shape=[len(ids_from_chars.get_vocabulary())])\n",
    "    self.prediction_mask = tf.sparse.to_dense(sparse_mask)\n",
    "\n",
    "  @tf.function\n",
    "  def generate_one_step(self, inputs, states=None):\n",
    "    # Convert strings to token IDs.\n",
    "    input_chars = tf.strings.unicode_split(inputs, 'UTF-8')\n",
    "    input_ids = self.ids_from_chars(input_chars).to_tensor()\n",
    "\n",
    "    # Run the model.\n",
    "    # predicted_logits.shape is [batch, char, next_char_logits]\n",
    "    predicted_logits, states = self.model(inputs=input_ids, states=states,\n",
    "                                          return_state=True)\n",
    "    # Only use the last prediction.\n",
    "    predicted_logits = predicted_logits[:, -1, :]\n",
    "    predicted_logits = predicted_logits/self.temperature\n",
    "    # Apply the prediction mask: prevent \"[UNK]\" from being generated.\n",
    "    predicted_logits = predicted_logits + self.prediction_mask\n",
    "\n",
    "    # Sample the output logits to generate token IDs.\n",
    "    predicted_ids = tf.random.categorical(predicted_logits, num_samples=1)\n",
    "    predicted_ids = tf.squeeze(predicted_ids, axis=-1)\n",
    "\n",
    "    # Convert from token ids to characters\n",
    "    predicted_chars = self.chars_from_ids(predicted_ids)\n",
    "\n",
    "    # Return the characters and model state.\n",
    "    return predicted_chars, states"
   ]
  },
  {
   "cell_type": "code",
   "execution_count": 47,
   "metadata": {
    "id": "xmJ-Yp5-5-kU"
   },
   "outputs": [],
   "source": [
    "one_step_model = OneStep(model, chars_from_ids, ids_from_chars)"
   ]
  },
  {
   "cell_type": "code",
   "execution_count": 48,
   "metadata": {
    "id": "VdkWZVm36Gq7"
   },
   "outputs": [
    {
     "name": "stdin",
     "output_type": "stream",
     "text": [
      "Input prompt:  Fantasy\n"
     ]
    }
   ],
   "source": [
    "prompt = input(\"Input prompt: \")\n",
    "li = list(prompt.split(\" \"))"
   ]
  },
  {
   "cell_type": "code",
   "execution_count": 49,
   "metadata": {
    "id": "IzseK0q_5_-3"
   },
   "outputs": [
    {
     "name": "stdout",
     "output_type": "stream",
     "text": [
      "Fantasy. Explore dark with no office are waiting to be fought. - New Quest Music where up with unknown - launch blick action with over 120 survival and to take the base with certain epic. In addition to like in of several, they never know why - '. Unique twist on the radio, a winder number of attack and weapon, learning and set out into the end Ling early weird. Key Basis of : Fight ( ) and in left editor ( primaryly and coming soon ); in this side - game to earn  Ahood, days, peegron, and more! Solve Hub Wolf! Defeat with the research facility where it mean one of my open - world wandering with a letter looking for three : a story about the sleepy town only by the Spirit Author of the ' and it ' s up to a terrible duaght - here that in other proddle Creative Mode. Content await! Lead the latest crash and find your way out.  See your evil pushen himself in the making with high yet. Unique open world and find the with the to overcome. Complete to Explore 55 and rended to driving back. Tedped a \n",
      "\n",
      "________________________________________________________________________________\n",
      "\n",
      "Run time: 4.426945447921753\n"
     ]
    }
   ],
   "source": [
    "start = time.time()\n",
    "states = None\n",
    "next_char = tf.constant(li)\n",
    "result = [next_char]\n",
    "\n",
    "for n in range(1000):\n",
    "  next_char, states = one_step_model.generate_one_step(next_char, states=states)\n",
    "  result.append(next_char)\n",
    "\n",
    "result = tf.strings.join(result)\n",
    "end = time.time()\n",
    "print(result[0].numpy().decode('utf-8'), '\\n\\n' + '_'*80)\n",
    "print('\\nRun time:', end - start)"
   ]
  },
  {
   "cell_type": "code",
   "execution_count": null,
   "metadata": {},
   "outputs": [],
   "source": []
  }
 ],
 "metadata": {
  "accelerator": "GPU",
  "colab": {
   "gpuType": "T4",
   "provenance": []
  },
  "kernelspec": {
   "display_name": "Python 3 (ipykernel)",
   "language": "python",
   "name": "python3"
  },
  "language_info": {
   "codemirror_mode": {
    "name": "ipython",
    "version": 3
   },
   "file_extension": ".py",
   "mimetype": "text/x-python",
   "name": "python",
   "nbconvert_exporter": "python",
   "pygments_lexer": "ipython3",
   "version": "3.9.19"
  }
 },
 "nbformat": 4,
 "nbformat_minor": 4
}
