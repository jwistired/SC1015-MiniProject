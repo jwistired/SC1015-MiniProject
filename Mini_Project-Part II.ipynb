{
 "cells": [
  {
   "cell_type": "code",
   "execution_count": 1,
   "metadata": {
    "id": "CjgRGNs3ttSN"
   },
   "outputs": [],
   "source": [
    "import tensorflow as tf\n",
    "import nltk\n",
    "import numpy as np\n",
    "import os\n",
    "import time\n",
    "import pandas as pd\n",
    "import csv\n",
    "import string\n",
    "import re"
   ]
  },
  {
   "cell_type": "code",
   "execution_count": 2,
   "metadata": {},
   "outputs": [
    {
     "name": "stdout",
     "output_type": "stream",
     "text": [
      "Num of GPUs available:  13\n"
     ]
    }
   ],
   "source": [
    "print(\"Num of GPUs available: \", len(tf.test.gpu_device_name()))"
   ]
  },
  {
   "cell_type": "markdown",
   "metadata": {},
   "source": [
    "### Something new to try\n",
    "In the process of uploading up a video game onto the market, one would need to come up with a description for their game.<br>\n",
    "Using machine learning and a simple Recurrent Neural Network (RNN), we will attempt to create a model to assist in writing a game description based on the genre and prompt given, similar to the GEN AI we have today."
   ]
  },
  {
   "cell_type": "code",
   "execution_count": 3,
   "metadata": {
    "colab": {
     "base_uri": "https://localhost:8080/"
    },
    "id": "aLlSzH-Yj9c0",
    "outputId": "e4177f0d-7896-478f-fa16-d4329d738a67"
   },
   "outputs": [
    {
     "name": "stdin",
     "output_type": "stream",
     "text": [
      "Which genre:  Action\n"
     ]
    }
   ],
   "source": [
    "genre = input(\"Which genre: \")"
   ]
  },
  {
   "cell_type": "code",
   "execution_count": 4,
   "metadata": {
    "id": "bjCegxeSkHRY"
   },
   "outputs": [],
   "source": [
    "data = pd.read_csv('games.csv')"
   ]
  },
  {
   "cell_type": "code",
   "execution_count": 5,
   "metadata": {
    "colab": {
     "base_uri": "https://localhost:8080/",
     "height": 672
    },
    "id": "yP8MlvHcvv0G",
    "outputId": "cde0d911-546b-4794-9894-1832e3088e0e"
   },
   "outputs": [
    {
     "data": {
      "text/html": [
       "<div>\n",
       "<style scoped>\n",
       "    .dataframe tbody tr th:only-of-type {\n",
       "        vertical-align: middle;\n",
       "    }\n",
       "\n",
       "    .dataframe tbody tr th {\n",
       "        vertical-align: top;\n",
       "    }\n",
       "\n",
       "    .dataframe thead th {\n",
       "        text-align: right;\n",
       "    }\n",
       "</style>\n",
       "<table border=\"1\" class=\"dataframe\">\n",
       "  <thead>\n",
       "    <tr style=\"text-align: right;\">\n",
       "      <th></th>\n",
       "      <th>AppID</th>\n",
       "      <th>Name</th>\n",
       "      <th>Release date</th>\n",
       "      <th>Estimated owners</th>\n",
       "      <th>Peak CCU</th>\n",
       "      <th>Required age</th>\n",
       "      <th>Price</th>\n",
       "      <th>DLC count</th>\n",
       "      <th>About the game</th>\n",
       "      <th>Supported languages</th>\n",
       "      <th>...</th>\n",
       "      <th>Average playtime two weeks</th>\n",
       "      <th>Median playtime forever</th>\n",
       "      <th>Median playtime two weeks</th>\n",
       "      <th>Developers</th>\n",
       "      <th>Publishers</th>\n",
       "      <th>Categories</th>\n",
       "      <th>Genres</th>\n",
       "      <th>Tags</th>\n",
       "      <th>Screenshots</th>\n",
       "      <th>Movies</th>\n",
       "    </tr>\n",
       "  </thead>\n",
       "  <tbody>\n",
       "    <tr>\n",
       "      <th>0</th>\n",
       "      <td>20200</td>\n",
       "      <td>Galactic Bowling</td>\n",
       "      <td>Oct 21, 2008</td>\n",
       "      <td>0 - 20000</td>\n",
       "      <td>0</td>\n",
       "      <td>0</td>\n",
       "      <td>19.99</td>\n",
       "      <td>0</td>\n",
       "      <td>Galactic Bowling is an exaggerated and stylize...</td>\n",
       "      <td>['English']</td>\n",
       "      <td>...</td>\n",
       "      <td>0</td>\n",
       "      <td>0</td>\n",
       "      <td>0</td>\n",
       "      <td>Perpetual FX Creative</td>\n",
       "      <td>Perpetual FX Creative</td>\n",
       "      <td>Single-player,Multi-player,Steam Achievements,...</td>\n",
       "      <td>Casual,Indie,Sports</td>\n",
       "      <td>Indie,Casual,Sports,Bowling</td>\n",
       "      <td>https://cdn.akamai.steamstatic.com/steam/apps/...</td>\n",
       "      <td>http://cdn.akamai.steamstatic.com/steam/apps/2...</td>\n",
       "    </tr>\n",
       "    <tr>\n",
       "      <th>1</th>\n",
       "      <td>655370</td>\n",
       "      <td>Train Bandit</td>\n",
       "      <td>Oct 12, 2017</td>\n",
       "      <td>0 - 20000</td>\n",
       "      <td>0</td>\n",
       "      <td>0</td>\n",
       "      <td>0.99</td>\n",
       "      <td>0</td>\n",
       "      <td>THE LAW!! Looks to be a showdown atop a train....</td>\n",
       "      <td>['English', 'French', 'Italian', 'German', 'Sp...</td>\n",
       "      <td>...</td>\n",
       "      <td>0</td>\n",
       "      <td>0</td>\n",
       "      <td>0</td>\n",
       "      <td>Rusty Moyher</td>\n",
       "      <td>Wild Rooster</td>\n",
       "      <td>Single-player,Steam Achievements,Full controll...</td>\n",
       "      <td>Action,Indie</td>\n",
       "      <td>Indie,Action,Pixel Graphics,2D,Retro,Arcade,Sc...</td>\n",
       "      <td>https://cdn.akamai.steamstatic.com/steam/apps/...</td>\n",
       "      <td>http://cdn.akamai.steamstatic.com/steam/apps/2...</td>\n",
       "    </tr>\n",
       "    <tr>\n",
       "      <th>2</th>\n",
       "      <td>1732930</td>\n",
       "      <td>Jolt Project</td>\n",
       "      <td>Nov 17, 2021</td>\n",
       "      <td>0 - 20000</td>\n",
       "      <td>0</td>\n",
       "      <td>0</td>\n",
       "      <td>4.99</td>\n",
       "      <td>0</td>\n",
       "      <td>Jolt Project: The army now has a new robotics ...</td>\n",
       "      <td>['English', 'Portuguese - Brazil']</td>\n",
       "      <td>...</td>\n",
       "      <td>0</td>\n",
       "      <td>0</td>\n",
       "      <td>0</td>\n",
       "      <td>Campião Games</td>\n",
       "      <td>Campião Games</td>\n",
       "      <td>Single-player</td>\n",
       "      <td>Action,Adventure,Indie,Strategy</td>\n",
       "      <td>NaN</td>\n",
       "      <td>https://cdn.akamai.steamstatic.com/steam/apps/...</td>\n",
       "      <td>http://cdn.akamai.steamstatic.com/steam/apps/2...</td>\n",
       "    </tr>\n",
       "    <tr>\n",
       "      <th>3</th>\n",
       "      <td>1355720</td>\n",
       "      <td>Henosis™</td>\n",
       "      <td>Jul 23, 2020</td>\n",
       "      <td>0 - 20000</td>\n",
       "      <td>0</td>\n",
       "      <td>0</td>\n",
       "      <td>5.99</td>\n",
       "      <td>0</td>\n",
       "      <td>HENOSIS™ is a mysterious 2D Platform Puzzler w...</td>\n",
       "      <td>['English', 'French', 'Italian', 'German', 'Sp...</td>\n",
       "      <td>...</td>\n",
       "      <td>0</td>\n",
       "      <td>0</td>\n",
       "      <td>0</td>\n",
       "      <td>Odd Critter Games</td>\n",
       "      <td>Odd Critter Games</td>\n",
       "      <td>Single-player,Full controller support</td>\n",
       "      <td>Adventure,Casual,Indie</td>\n",
       "      <td>2D Platformer,Atmospheric,Surreal,Mystery,Puzz...</td>\n",
       "      <td>https://cdn.akamai.steamstatic.com/steam/apps/...</td>\n",
       "      <td>http://cdn.akamai.steamstatic.com/steam/apps/2...</td>\n",
       "    </tr>\n",
       "    <tr>\n",
       "      <th>4</th>\n",
       "      <td>1139950</td>\n",
       "      <td>Two Weeks in Painland</td>\n",
       "      <td>Feb 3, 2020</td>\n",
       "      <td>0 - 20000</td>\n",
       "      <td>0</td>\n",
       "      <td>0</td>\n",
       "      <td>0.00</td>\n",
       "      <td>0</td>\n",
       "      <td>ABOUT THE GAME Play as a hacker who has arrang...</td>\n",
       "      <td>['English', 'Spanish - Spain']</td>\n",
       "      <td>...</td>\n",
       "      <td>0</td>\n",
       "      <td>0</td>\n",
       "      <td>0</td>\n",
       "      <td>Unusual Games</td>\n",
       "      <td>Unusual Games</td>\n",
       "      <td>Single-player,Steam Achievements</td>\n",
       "      <td>Adventure,Indie</td>\n",
       "      <td>Indie,Adventure,Nudity,Violent,Sexual Content,...</td>\n",
       "      <td>https://cdn.akamai.steamstatic.com/steam/apps/...</td>\n",
       "      <td>http://cdn.akamai.steamstatic.com/steam/apps/2...</td>\n",
       "    </tr>\n",
       "  </tbody>\n",
       "</table>\n",
       "<p>5 rows × 39 columns</p>\n",
       "</div>"
      ],
      "text/plain": [
       "     AppID                   Name  Release date Estimated owners  Peak CCU  \\\n",
       "0    20200       Galactic Bowling  Oct 21, 2008        0 - 20000         0   \n",
       "1   655370           Train Bandit  Oct 12, 2017        0 - 20000         0   \n",
       "2  1732930           Jolt Project  Nov 17, 2021        0 - 20000         0   \n",
       "3  1355720               Henosis™  Jul 23, 2020        0 - 20000         0   \n",
       "4  1139950  Two Weeks in Painland   Feb 3, 2020        0 - 20000         0   \n",
       "\n",
       "   Required age  Price  DLC count  \\\n",
       "0             0  19.99          0   \n",
       "1             0   0.99          0   \n",
       "2             0   4.99          0   \n",
       "3             0   5.99          0   \n",
       "4             0   0.00          0   \n",
       "\n",
       "                                      About the game  \\\n",
       "0  Galactic Bowling is an exaggerated and stylize...   \n",
       "1  THE LAW!! Looks to be a showdown atop a train....   \n",
       "2  Jolt Project: The army now has a new robotics ...   \n",
       "3  HENOSIS™ is a mysterious 2D Platform Puzzler w...   \n",
       "4  ABOUT THE GAME Play as a hacker who has arrang...   \n",
       "\n",
       "                                 Supported languages  ...  \\\n",
       "0                                        ['English']  ...   \n",
       "1  ['English', 'French', 'Italian', 'German', 'Sp...  ...   \n",
       "2                 ['English', 'Portuguese - Brazil']  ...   \n",
       "3  ['English', 'French', 'Italian', 'German', 'Sp...  ...   \n",
       "4                     ['English', 'Spanish - Spain']  ...   \n",
       "\n",
       "  Average playtime two weeks Median playtime forever  \\\n",
       "0                          0                       0   \n",
       "1                          0                       0   \n",
       "2                          0                       0   \n",
       "3                          0                       0   \n",
       "4                          0                       0   \n",
       "\n",
       "  Median playtime two weeks             Developers             Publishers  \\\n",
       "0                         0  Perpetual FX Creative  Perpetual FX Creative   \n",
       "1                         0           Rusty Moyher           Wild Rooster   \n",
       "2                         0          Campião Games          Campião Games   \n",
       "3                         0      Odd Critter Games      Odd Critter Games   \n",
       "4                         0          Unusual Games          Unusual Games   \n",
       "\n",
       "                                          Categories  \\\n",
       "0  Single-player,Multi-player,Steam Achievements,...   \n",
       "1  Single-player,Steam Achievements,Full controll...   \n",
       "2                                      Single-player   \n",
       "3              Single-player,Full controller support   \n",
       "4                   Single-player,Steam Achievements   \n",
       "\n",
       "                            Genres  \\\n",
       "0              Casual,Indie,Sports   \n",
       "1                     Action,Indie   \n",
       "2  Action,Adventure,Indie,Strategy   \n",
       "3           Adventure,Casual,Indie   \n",
       "4                  Adventure,Indie   \n",
       "\n",
       "                                                Tags  \\\n",
       "0                        Indie,Casual,Sports,Bowling   \n",
       "1  Indie,Action,Pixel Graphics,2D,Retro,Arcade,Sc...   \n",
       "2                                                NaN   \n",
       "3  2D Platformer,Atmospheric,Surreal,Mystery,Puzz...   \n",
       "4  Indie,Adventure,Nudity,Violent,Sexual Content,...   \n",
       "\n",
       "                                         Screenshots  \\\n",
       "0  https://cdn.akamai.steamstatic.com/steam/apps/...   \n",
       "1  https://cdn.akamai.steamstatic.com/steam/apps/...   \n",
       "2  https://cdn.akamai.steamstatic.com/steam/apps/...   \n",
       "3  https://cdn.akamai.steamstatic.com/steam/apps/...   \n",
       "4  https://cdn.akamai.steamstatic.com/steam/apps/...   \n",
       "\n",
       "                                              Movies  \n",
       "0  http://cdn.akamai.steamstatic.com/steam/apps/2...  \n",
       "1  http://cdn.akamai.steamstatic.com/steam/apps/2...  \n",
       "2  http://cdn.akamai.steamstatic.com/steam/apps/2...  \n",
       "3  http://cdn.akamai.steamstatic.com/steam/apps/2...  \n",
       "4  http://cdn.akamai.steamstatic.com/steam/apps/2...  \n",
       "\n",
       "[5 rows x 39 columns]"
      ]
     },
     "execution_count": 5,
     "metadata": {},
     "output_type": "execute_result"
    }
   ],
   "source": [
    "data.head()"
   ]
  },
  {
   "cell_type": "markdown",
   "metadata": {},
   "source": [
    "### Dataset\n",
    "We will filter the dataset to those that are of the genre that we want. We will also remove trim the data a bit by removing games that has low ownership."
   ]
  },
  {
   "cell_type": "code",
   "execution_count": 34,
   "metadata": {
    "id": "er7kWqL9v1xp"
   },
   "outputs": [],
   "source": [
    "data2 = pd.DataFrame(data[[\"Name\",\"Estimated owners\",\"Genres\",\"About the game\"]])\n",
    "data2 = data2[data2['Genres'].str.contains(genre)==True]\n",
    "data2 = data2[data2['Estimated owners'].str.contains('0 - 20000')==False]\n",
    "data2 = data2[data2['Estimated owners'].str.contains('0 - 0')==False]"
   ]
  },
  {
   "cell_type": "code",
   "execution_count": 7,
   "metadata": {
    "colab": {
     "base_uri": "https://localhost:8080/",
     "height": 424
    },
    "id": "peLVlpPtwFqy",
    "outputId": "eb210fa3-e973-4a48-ea60-83e042b03449"
   },
   "outputs": [
    {
     "data": {
      "text/html": [
       "<div>\n",
       "<style scoped>\n",
       "    .dataframe tbody tr th:only-of-type {\n",
       "        vertical-align: middle;\n",
       "    }\n",
       "\n",
       "    .dataframe tbody tr th {\n",
       "        vertical-align: top;\n",
       "    }\n",
       "\n",
       "    .dataframe thead th {\n",
       "        text-align: right;\n",
       "    }\n",
       "</style>\n",
       "<table border=\"1\" class=\"dataframe\">\n",
       "  <thead>\n",
       "    <tr style=\"text-align: right;\">\n",
       "      <th></th>\n",
       "      <th>Name</th>\n",
       "      <th>Estimated owners</th>\n",
       "      <th>Genres</th>\n",
       "      <th>About the game</th>\n",
       "    </tr>\n",
       "  </thead>\n",
       "  <tbody>\n",
       "    <tr>\n",
       "      <th>9</th>\n",
       "      <td>Deadlings: Rotten Edition</td>\n",
       "      <td>50000 - 100000</td>\n",
       "      <td>Action,Adventure,Indie</td>\n",
       "      <td>Death is lonely. He has zero friends on his Fa...</td>\n",
       "    </tr>\n",
       "    <tr>\n",
       "      <th>15</th>\n",
       "      <td>Alien Breed 3: Descent</td>\n",
       "      <td>200000 - 500000</td>\n",
       "      <td>Action</td>\n",
       "      <td>Alien Breed™ 3: Descent is the final explosive...</td>\n",
       "    </tr>\n",
       "    <tr>\n",
       "      <th>21</th>\n",
       "      <td>Project: R.E.B.O.O.T 2</td>\n",
       "      <td>20000 - 50000</td>\n",
       "      <td>Action,Adventure,Casual,Indie</td>\n",
       "      <td>Meet the continuation of the hardcore platform...</td>\n",
       "    </tr>\n",
       "    <tr>\n",
       "      <th>23</th>\n",
       "      <td>Turtle Lu</td>\n",
       "      <td>20000 - 50000</td>\n",
       "      <td>Action,Adventure,Casual,Indie</td>\n",
       "      <td>Turtle Lu Turtle Lu is an old-school Action-Ad...</td>\n",
       "    </tr>\n",
       "    <tr>\n",
       "      <th>39</th>\n",
       "      <td>Vanguard Princess</td>\n",
       "      <td>200000 - 500000</td>\n",
       "      <td>Action,Casual,Indie</td>\n",
       "      <td>Government experiments on a young girl trigger...</td>\n",
       "    </tr>\n",
       "    <tr>\n",
       "      <th>...</th>\n",
       "      <td>...</td>\n",
       "      <td>...</td>\n",
       "      <td>...</td>\n",
       "      <td>...</td>\n",
       "    </tr>\n",
       "    <tr>\n",
       "      <th>71524</th>\n",
       "      <td>Beyond Polaris Guardian</td>\n",
       "      <td>20000 - 50000</td>\n",
       "      <td>Action,Adventure,RPG,Early Access</td>\n",
       "      <td>Military schools serve as a crucial step for r...</td>\n",
       "    </tr>\n",
       "    <tr>\n",
       "      <th>71615</th>\n",
       "      <td>Sifu</td>\n",
       "      <td>50000 - 100000</td>\n",
       "      <td>Action,Indie</td>\n",
       "      <td>Whether you choose to play as a male or a fema...</td>\n",
       "    </tr>\n",
       "    <tr>\n",
       "      <th>71635</th>\n",
       "      <td>Papa's Freezeria Deluxe</td>\n",
       "      <td>20000 - 50000</td>\n",
       "      <td>Action,Casual,Indie,Simulation,Strategy</td>\n",
       "      <td>After starting a relaxing job at the oceanfron...</td>\n",
       "    </tr>\n",
       "    <tr>\n",
       "      <th>71652</th>\n",
       "      <td>Historic Fighters</td>\n",
       "      <td>50000 - 100000</td>\n",
       "      <td>Action,Casual,Indie,Strategy</td>\n",
       "      <td>Historic Fighters is a turn-based game that al...</td>\n",
       "    </tr>\n",
       "    <tr>\n",
       "      <th>71667</th>\n",
       "      <td>The Last of Us™ Part I</td>\n",
       "      <td>500000 - 1000000</td>\n",
       "      <td>Action,Adventure</td>\n",
       "      <td>Experience the emotional storytelling and unfo...</td>\n",
       "    </tr>\n",
       "  </tbody>\n",
       "</table>\n",
       "<p>6222 rows × 4 columns</p>\n",
       "</div>"
      ],
      "text/plain": [
       "                            Name  Estimated owners  \\\n",
       "9      Deadlings: Rotten Edition    50000 - 100000   \n",
       "15        Alien Breed 3: Descent   200000 - 500000   \n",
       "21        Project: R.E.B.O.O.T 2     20000 - 50000   \n",
       "23                     Turtle Lu     20000 - 50000   \n",
       "39             Vanguard Princess   200000 - 500000   \n",
       "...                          ...               ...   \n",
       "71524    Beyond Polaris Guardian     20000 - 50000   \n",
       "71615                       Sifu    50000 - 100000   \n",
       "71635    Papa's Freezeria Deluxe     20000 - 50000   \n",
       "71652          Historic Fighters    50000 - 100000   \n",
       "71667     The Last of Us™ Part I  500000 - 1000000   \n",
       "\n",
       "                                        Genres  \\\n",
       "9                       Action,Adventure,Indie   \n",
       "15                                      Action   \n",
       "21               Action,Adventure,Casual,Indie   \n",
       "23               Action,Adventure,Casual,Indie   \n",
       "39                         Action,Casual,Indie   \n",
       "...                                        ...   \n",
       "71524        Action,Adventure,RPG,Early Access   \n",
       "71615                             Action,Indie   \n",
       "71635  Action,Casual,Indie,Simulation,Strategy   \n",
       "71652             Action,Casual,Indie,Strategy   \n",
       "71667                         Action,Adventure   \n",
       "\n",
       "                                          About the game  \n",
       "9      Death is lonely. He has zero friends on his Fa...  \n",
       "15     Alien Breed™ 3: Descent is the final explosive...  \n",
       "21     Meet the continuation of the hardcore platform...  \n",
       "23     Turtle Lu Turtle Lu is an old-school Action-Ad...  \n",
       "39     Government experiments on a young girl trigger...  \n",
       "...                                                  ...  \n",
       "71524  Military schools serve as a crucial step for r...  \n",
       "71615  Whether you choose to play as a male or a fema...  \n",
       "71635  After starting a relaxing job at the oceanfron...  \n",
       "71652  Historic Fighters is a turn-based game that al...  \n",
       "71667  Experience the emotional storytelling and unfo...  \n",
       "\n",
       "[6222 rows x 4 columns]"
      ]
     },
     "execution_count": 7,
     "metadata": {},
     "output_type": "execute_result"
    }
   ],
   "source": [
    "data2"
   ]
  },
  {
   "cell_type": "code",
   "execution_count": 9,
   "metadata": {},
   "outputs": [
    {
     "name": "stderr",
     "output_type": "stream",
     "text": [
      "[nltk_data] Downloading package words to\n",
      "[nltk_data]     C:\\Users\\jerra\\AppData\\Roaming\\nltk_data...\n",
      "[nltk_data]   Package words is already up-to-date!\n"
     ]
    },
    {
     "data": {
      "text/plain": [
       "True"
      ]
     },
     "execution_count": 9,
     "metadata": {},
     "output_type": "execute_result"
    }
   ],
   "source": [
    "nltk.download('words')"
   ]
  },
  {
   "cell_type": "code",
   "execution_count": 8,
   "metadata": {},
   "outputs": [
    {
     "name": "stdout",
     "output_type": "stream",
     "text": [
      "Length of text: 9068925 characters\n",
      "Death is lonely. He has zero friends on his FaceTome account and no one to hang out with. So, in order to feel better he begins “Project Deadlings”. Death buys a factory where he can build his laboratory and begin training a massive army of zombie minions. As the army of Deadlings grows, the mazes of the laboratory become deadlier, loaded with puzzles and death-defying traps. Different Deadlings have their own unique abilities: Bonesack is agile - he can run and jump, Creep can climb on walls and ceilings, Lazybrain treads slowly but carefully and Stencher... well Stencher has gastric problems so he can use his powerful gas clouds to fly. You will have to combine all of these abilities to find your way in Death's Maze. Can you help Death to kill his boredom? Will you be able to navigate all 60+ levels available in Deadlings? Will you complete Project Deadlings, and successfully train all of your zombie minions? Arcade side-scroller with strategy elements! Four different types of zombie minions with unique abilities! 70 levels of pure zombie gore fun! Additional game mode - Nightmare - only for the hardcore gamers! What's new in the Rotten Edition? 10 brand new bonus levels 15 new levels in Nightmare Mode Steam achievements and leaderboards Full controller support Nightmare mode unlocked from the beginning Steam Trading Cards and Badges HD graphics Alien Breed™ 3: Descent is the final explosive chapter in the Alien Breed™ series, and is a science fiction arcade-shooter with an epic story, swarms of highly intelligent alien enemies, high-impact weapons and stunning environments, developed using Epic Games' Unreal® Engine 3. Descend into hell and once again take control of the hero, Conrad, the ship’s Chief Engineer, in his last stand against the savage alien horde. While the doomed vessel, the Leopold, and the alien space craft plunge deeper into the planet’s atmosphere, with an icy ocean promising a watery grave, you have just hours to defy a grisly death and survive the alien onslaught for the final time. As you struggle deeper into the sinking alien ship, through the freezing waters flooding every corridor, the horrifying truth surrounding the existence of the Breed is finally uncovered… In addition to the thrilling conclusion to the single-player campaign and the relentless and competitive “Survivor” modes, the game offers action-packed, two-player online co-operative battle modes. Key Features Alien Breed™ 3: Descent - The stunning final chapter in the Alien Breed™ trilogy - an action-packed mix of arcade-shooter, survival-horror and tactical weapons upgrades and customisation. The final descent into hell! NEW - Set pieces – battle the breed through flooded levels and hull walk sections. NEW – Third-person action - take control of the hero, Conrad, in the new action-packed, third-person, sections. NEW – Fight the last stand armed with powerful new weaponry: The Project X is a ‘BFG’ that vaporizes everything it comes into contact with. The Electro-Link gun fires bolts of electricity and also sends chain lightning to damage nearby enemies. NEW – Survive new alien enemies – the ‘Electro-shocker’ and dramatic encounters with the final horrifying bosses. Epic single-player Story mode – The final chapter in the single-player campaign mode that concludes the thrilling narrative of the game through huge and challenging environments, including the new research lab level. Single-player Survivor mode – Resist endless waves of intense alien horde attacks in specifically designed arena environments. Single-player Free-play mode – A single-player challenge mode – beat your high score on a previously completed campaign mission. Two-player Co-operative play mode – Work together to defeat the alien horde across three specially customised assault maps for two players online. Two-player Co-operative Survivor mode – Join forces online and try to survive three specifically designed arena environments. Get competitive and challenge others online to beat your survivor abilities on the extensive Leader-boards. Additional Online features – Quick Match/Create Game/Friends Lists/Voice Chat/Leader-boards/Steam Achievements/Co-operative Achievements. Upgrades shop – Search fallen comrades and lockers to accumulate cash, and then tactically spend it on weapons/kit upgrades in the in-game shop. Playable demo/trial – A purpose-designed, action-packed free sample section of Alien Breed™ 3: Descent, called ‘The Prologue’, which also features a time-limited Survivor mode map. Meet the continuation of the hardcore platformer Project: R.E.B.O.O.T! You have to play for the intelligent robot, created by the best scientists for the annual tournament 'Project: R.E.B.O.O.T'. The best minds from all the planets are programming their robots each year, which must pass 30 challenging levels, equipped with deadly traps and various obstacles. In the game you expect sea hardcore and fun, as well as new, unique locations and a variety of levels. Also do\n"
     ]
    }
   ],
   "source": [
    "data2 = data2['About the game'].str.join('')\n",
    "text = data2.str.cat(sep = ' ')\n",
    "print(f'Length of text: {len(text)} characters')\n",
    "print(text[:5000])"
   ]
  },
  {
   "cell_type": "code",
   "execution_count": 10,
   "metadata": {
    "scrolled": true
   },
   "outputs": [
    {
     "name": "stdout",
     "output_type": "stream",
     "text": [
      "3153 unique characters\n",
      "['\\x0c', ' ', '!', '#', '$', '%', '&', \"'\", '(', ')', '*', '+', ',', '-', '.', '/', '0', '1', '2', '3', '4', '5', '6', '7', '8', '9', ':', ';', '=', '?', '@', 'A', 'B', 'C', 'D', 'E', 'F', 'G', 'H', 'I', 'J', 'K', 'L', 'M', 'N', 'O', 'P', 'Q', 'R', 'S', 'T', 'U', 'V', 'W', 'X', 'Y', 'Z', '[', '\\\\', ']', '^', '_', '`', 'a', 'b', 'c', 'd', 'e', 'f', 'g', 'h', 'i', 'j', 'k', 'l', 'm', 'n', 'o', 'p', 'q', 'r', 's', 't', 'u', 'v', 'w', 'x', 'y', 'z', '{', '|', '}', '~', '\\x81', '\\x85', '\\x92', '\\x93', '\\x94', '\\x97', '\\xa0', '¡', '£', '¦', '§', '©', '«', '¬', '\\xad', '®', '°', '²', '´', '·', '¹', '»', '¼', '½', '¿', 'Á', 'Ä', 'Æ', 'É', 'Ô', '×', 'Ø', 'Û', 'Ü', 'à', 'á', 'â', 'ã', 'ä', 'å', 'æ', 'ç', 'è', 'é', 'ê', 'ë', 'í', 'î', 'ï', 'ñ', 'ò', 'ó', 'ô', 'ö', 'ø', 'ú', 'ü', 'ý', 'ā', 'Č', 'č', 'ę', 'ě', 'ğ', 'į', 'ı', 'ļ', 'ł', 'ń', 'Ō', 'ō', 'ř', 'ś', 'ş', 'ū', 'ƒ', 'ʖ', 'ʼ', '˚', '̀', '́', '̃', '̅', '̈', '̋', '̓', '̔', '̙', '̚', '̝', '̠', '̫', '̬', '̱', '̴', '̵', '̶', '̷', '̸', '̺', '̽', 'ͅ', '͆', '͇', '͋', '͎', '͐', '͔', '͖', '͘', '͙', '͜', '͠', '͡', 'Δ', 'Λ', 'Σ', 'ω', 'Ё', 'Ў', 'Џ', 'Б', 'В', 'Г', 'Д', 'М', 'П', 'С', 'У', 'Ц', 'Я', 'а', 'в', 'д', 'е', 'з', 'и', 'й', 'к', 'л', 'о', 'р', 'с', 'у', 'х', 'щ', 'ы', 'ь', 'я', 'є', 'і', 'ќ', 'ґ', 'א', 'ת', 'و', 'ก', 'ข', 'ค', 'ง', 'จ', 'ช', 'ซ', 'ญ', 'ณ', 'ด', 'ต', 'ถ', 'ท', 'น', 'บ', 'ป', 'ผ', 'ฝ', 'พ', 'ฟ', 'ภ', 'ม', 'ย', 'ร', 'ล', 'ว', 'ศ', 'ษ', 'ส', 'ห', 'อ', 'ะ', 'ั', 'า', 'ำ', 'ิ', 'ี', 'ึ', 'ื', 'ุ', 'ู', 'เ', 'แ', 'โ', 'ใ', 'ไ', 'ๆ', '็', '่', '้', '์', '๑', 'ᐛ', 'ᕕ', 'ᕗ', '\\u2003', '\\u200a', '\\u200b', '\\u200d', '‐', '–', '—', '―', '‘', '’', '“', '”', '„', '†', '‡', '•', '…', '\\u2028', '\\u202f', '※', '€', '™', '⅘', 'Ⅰ', 'Ⅱ', 'Ⅳ', 'Ⅴ', 'Ⅵ', '←', '↑', '→', '↓', '∀', '∇', '∞', '∠', '∩', '⋆', '⌛', '⏳', '①', '②', '③', '④', '─', '╭', '▀', '▄', '▇', '█', '░', '▒', '■', '□', '▪', '▬', '▲', '▶', '▷', '▸', '►', '▼', '▽', '◆', '◇', '○', '◎', '●', '◦', '◽', '◾', '★', '☆', '☑', '☜', '☝', '☞', '☟', '☠', '☹', '☼', '♂', '♛', '♝', '♥', '♦', '♪', '♫', '⚈', '⚐', '⚔', '⚡', '⛩', '⛺', '✅', '✋', '✌', '✍', '✓', '✔', '✕', '✗', '✜', '✡', '✧', '✪', '❂', '❄', '❌', '❕', '❤', '➠', '➤', '⠀', '⦁', '⦿', '⭐', '\\u3000', '、', '。', '々', '〈', '〉', '《', '》', '「', '」', '『', '』', '【', '】', 'ぁ', 'あ', 'い', 'う', 'ぇ', 'え', 'お', 'か', 'が', 'き', 'ぎ', 'く', 'ぐ', 'け', 'げ', 'こ', 'ご', 'さ', 'ざ', 'し', 'じ', 'す', 'ず', 'せ', 'ぜ', 'そ', 'ぞ', 'た', 'だ', 'ち', 'っ', 'つ', 'づ', 'て', 'で', 'と', 'ど', 'な', 'に', 'ぬ', 'ね', 'の', 'は', 'ば', 'ぱ', 'ひ', 'び', 'ふ', 'ぶ', 'へ', 'べ', 'ぺ', 'ほ', 'ぼ', 'ま', 'み', 'む', 'め', 'も', 'ゃ', 'や', 'ゆ', 'ょ', 'よ', 'ら', 'り', 'る', 'れ', 'ろ', 'わ', 'ゐ', 'を', 'ん', 'ァ', 'ア', 'ィ', 'イ', 'ウ', 'ェ', 'エ', 'ォ', 'オ', 'カ', 'ガ', 'キ', 'ギ', 'ク', 'グ', 'ゲ', 'コ', 'ゴ', 'サ', 'ザ', 'シ', 'ジ', 'ス', 'ズ', 'セ', 'ゼ', 'ソ', 'ゾ', 'タ', 'ダ', 'チ', 'ッ', 'ツ', 'テ', 'デ', 'ト', 'ド', 'ナ', 'ニ', 'ヌ', 'ネ', 'ノ', 'ハ', 'バ', 'パ', 'ヒ', 'ビ', 'ピ', 'フ', 'ブ', 'プ', 'ベ', 'ペ', 'ホ', 'ボ', 'ポ', 'マ', 'ミ', 'ム', 'メ', 'モ', 'ャ', 'ヤ', 'ュ', 'ョ', 'ラ', 'リ', 'ル', 'レ', 'ロ', 'ワ', 'ン', '・', 'ー', 'ヽ', 'ㅂ', '一', '丁', '七', '万', '丈', '三', '上', '下', '不', '与', '专', '且', '世', '丘', '业', '丛', '东', '丝', '両', '丢', '两', '严', '丧', '个', '中', '丰', '临', '丸', '丹', '为', '主', '丽', '举', '丿', '乃', '久', '么', '义', '之', '乌', '乎', '乐', '乗', '乘', '九', '也', '习', '乡', '书', '买', '乱', '了', '予', '争', '事', '二', '于', '亏', '云', '互', '五', '井', '亚', '些', '亡', '交', '亥', '亦', '产', '享', '京', '亭', '亲', '人', '什', '仅', '仆', '仇', '今', '介', '从', '仕', '他', '付', '仙', '代', '令', '以', '们', '仮', '仰', '仲', '件', '价', '任', '份', '仿', '企', '伍', '伏', '伐', '休', '众', '优', '伙', '会', '伝', '伟', '传', '伤', '伴', '伺', '似', '但', '位', '低', '住', '佐', '佑', '体', '何', '余', '佛', '作', '你', '佬', '佳', '併', '使', '例', '供', '依', '侠', '価', '侦', '侯', '侵', '便', '係', '俗', '俘', '保', '信', '修', '俯', '俱', '個', '倍', '倒', '候', '借', '値', '值', '倾', '假', '偏', '做', '停', '側', '偶', '偷', '偿', '傀', '傅', '備', '催', '傲', '傻', '傾', '僅', '像', '僧', '償', '儡', '優', '儿', '允', '元', '兄', '充', '先', '光', '克', '免', '兎', '兒', '兔', '入', '全', '八', '公', '六', '共', '关', '兴', '兵', '其', '具', '典', '养', '兼', '兽', '内', '円', '册', '再', '冒', '写', '军', '农', '冠', '冤', '冥', '冬', '冯', '冰', '冲', '决', '况', '冷', '净', '凄', '准', '凉', '减', '凝', '几', '凡', '処', '凭', '凶', '出', '击', '刀', '刃', '分', '切', '刎', '划', '列', '刘', '则', '刚', '创', '初', '删', '判', '別', '利', '别', '到', '制', '刷', '刺', '刻', '剂', '則', '削', '前', '剑', '剣', '剧', '副', '割', '創', '剿', '劇', '力', '劝', '办', '功', '加', '务', '劣', '动', '助', '努', '劫', '励', '劳', '効', '势', '勇', '勉', '動', '勘', '務', '勝', '募', '勤', '勾', '勿', '包', '匈', '化', '北', '匡', '匹', '区', '十', '千', '升', '半', '华', '协', '卑', '单', '卖', '南', '単', '博', '占', '卡', '卢', '卦', '卫', '印', '危', '即', '却', '卷', '历', '压', '厚', '原', '厮', '厳', '去', '参', '又', '及', '友', '双', '反', '収', '发', '叔', '取', '受', '变', '叙', '叛', '叠', '口', '古', '句', '另', '只', '叫', '召', '叮', '可', '台', '史', '右', '号', '司', '叹', '吃', '各', '合', '同', '名', '后', '吐', '向', '君', '吟', '否', '吧', '含', '听', '启', '吴', '吸', '吹', '呈', '告', '员', '呢', '周', '味', '呻', '呼', '命', '和', '咲', '咸', '哀', '品', '响', '哦', '哪', '哭', '唤', '售', '唯', '唱', '商', '啊', '問', '啦', '善', '喊', '喋', '喔', '喚', '喜', '喝', '喰', '喵', '営', '喻', '嗜', '嘱', '噂', '器', '噬', '囁', '囊', '四', '回', '因', '团', '団', '园', '困', '囲', '図', '围', '固', '国', '图', '國', '園', '團', '土', '圣', '在', '地', '场', '坂', '均', '坏', '坐', '坑', '坠', '坦', '垂', '型', '垦', '埋', '城', '埙', '域', '培', '基', '堂', '堅', '報', '場', '堵', '塔', '塚', '塞', '填', '境', '増', '增', '墨', '壁', '壊', '士', '壮', '声', '売', '处', '备', '変', '复', '夏', '外', '多', '夜', '够', '夢', '大', '天', '太', '夫', '夭', '央', '失', '头', '夺', '奇', '奈', '奋', '奏', '契', '奔', '奖', '套', '奠', '奥', '奨', '奪', '女', '奴', '奸', '她', '好', '如', '妇', '妈', '妖', '妙', '妥', '妪', '妹', '妻', '始', '姐', '姓', '委', '姬', '姿', '威', '娃', '娇', '娘', '婆', '婚', '婪', '嫌', '嬉', '嬢', '嬴', '子', '字', '存', '季', '孤', '学', '孩', '孵', '學', '宁', '它', '宇', '守', '安', '完', '宗', '官', '宙', '定', '宝', '实', '実', '宠', '审', '客', '宣', '室', '宫', '害', '家', '容', '宿', '寂', '寄', '密', '富', '寥', '寫', '寸', '对', '寻', '导', '対', '寿', '封', '専', '射', '将', '將', '尊', '對', '小', '少', '尔', '尚', '尝', '尤', '就', '尸', '尺', '尼', '尽', '尾', '局', '层', '居', '屈', '届', '屋', '屏', '展', '属', '履', '山', '岁', '岛', '峰', '峻', '崖', '崩', '崭', '川', '州', '巡', '工', '左', '巧', '巨', '巫', '差', '己', '已', '巷', '巻', '币', '市', '布', '帅', '师', '希', '帐', '帖', '帜', '帝', '带', '帧', '師', '帮', '帷', '常', '帽', '幄', '幅', '幕', '幫', '干', '平', '年', '并', '幸', '幻', '幼', '幽', '幾', '广', '広', '庆', '庇', '序', '应', '底', '店', '府', '度', '座', '庫', '庭', '庶', '延', '建', '开', '异', '弃', '弄', '式', '引', '弟', '张', '弱', '強', '弹', '强', '弾', '彈', '归', '当', '录', '形', '彩', '影', '役', '彻', '彼', '往', '征', '径', '待', '很', '徊', '律', '後', '徐', '徒', '従', '得', '徘', '御', '復', '循', '微', '徴', '德', '徹', '心', '必', '忆', '忌', '忍', '志', '忙', '応', '忠', '忧', '快', '念', '怀', '态', '怎', '怒', '怕', '怖', '思', '怠', '急', '性', '怨', '怪', '总', '恍', '恐', '恒', '恢', '恨', '恩', '恬', '息', '恵', '恶', '悄', '悉', '悍', '悟', '您', '悩', '悪', '悲', '情', '惊', '惑', '惘', '惚', '惜', '惧', '惨', '想', '愈', '愉', '意', '愛', '感', '愤', '愿', '態', '慌', '慎', '慢', '慣', '慨', '慮', '憎', '憑', '憶', '憾', '戈', '戍', '戏', '成', '我', '戒', '或', '战', '戦', '截', '戮', '戲', '戴', '户', '戻', '房', '所', '扇', '扈', '手', '才', '打', '托', '执', '扬', '扭', '扮', '扱', '扶', '批', '找', '承', '技', '抉', '把', '投', '抗', '折', '抚', '抛', '抜', '択', '抢', '护', '报', '抱', '抵', '押', '抽', '担', '拆', '拉', '拔', '招', '拝', '拟', '拡', '拥', '拦', '拨', '择', '括', '拯', '拴', '拼', '拾', '拿', '持', '指', '按', '挑', '挟', '挠', '挡', '挥', '挫', '振', '挽', '捍', '捏', '捕', '捞', '换', '捨', '据', '捲', '捷', '授', '掉', '掌', '掏', '排', '掘', '掛', '掠', '探', '接', '控', '推', '掩', '掴', '掷', '揃', '描', '提', '插', '換', '握', '揭', '援', '揺', '損', '搏', '搜', '搞', '搭', '携', '摆', '摇', '摒', '摸', '撃', '撒', '撞', '撮', '擅', '擊', '操', '擎', '支', '收', '改', '攻', '放', '政', '故', '效', '敌', '救', '敗', '教', '敢', '散', '敬', '数', '整', '敵', '敷', '數', '文', '斐', '斑', '斓', '斗', '料', '斜', '斥', '斩', '断', '斯', '新', '方', '於', '施', '旁', '旅', '旋', '族', '旗', '无', '既', '日', '旦', '旧', '旨', '早', '时', '昂', '昇', '明', '易', '星', '映', '春', '昧', '是', '昼', '显', '時', '晃', '晕', '晚', '普', '景', '晰', '晴', '智', '暂', '暖', '暗', '暢', '暫', '暮', '暴', '曇', '曖', '曜', '曝', '曲', '更', '曹', '曼', '曾', '替', '最', '會', '月', '有', '朋', '服', '朔', '望', '朝', '期', '朦', '木', '未', '末', '本', '札', '术', '朴', '机', '朽', '杀', '杂', '权', '杆', '李', '材', '村', '杖', '束', '条', '来', '杰', '東', '松', '板', '极', '构', '林', '枚', '果', '枝', '枠', '枪', '枭', '枯', '枰', '架', '某', '染', '柔', '查', '柱', '柴', '査', '栄', '标', '树', '样', '核', '根', '格', '桁', '桃', '案', '桌', '桑', '桔', '桜', '桩', '梗', '梦', '械', '棄', '棋', '棒', '森', '棺', '植', '楚', '業', '極', '楼', '楽', '概', '榴', '構', '槍', '様', '槽', '樂', '模', '権', '横', '機', '橫', '檔', '欠', '次', '欢', '欲', '款', '歉', '歌', '歓', '止', '正', '此', '步', '武', '歩', '歴', '死', '殆', '殇', '殊', '残', '殖', '段', '殺', '殿', '毅', '母', '毎', '每', '毒', '比', '毕', '民', '气', '気', '氛', '氪', '水', '氷', '永', '汀', '求', '汉', '江', '池', '決', '沈', '沉', '沌', '沙', '沟', '没', '沢', '河', '沸', '油', '治', '沼', '沿', '況', '泉', '法', '泠', '波', '泥', '注', '泪', '泰', '泳', '泽', '洋', '洒', '洛', '洞', '活', '派', '流', '浄', '浆', '测', '浪', '浮', '海', '浸', '消', '涉', '涨', '深', '混', '清', '済', '渉', '渐', '減', '渡', '渣', '温', '測', '港', '渲', '渴', '游', '渺', '湖', '湧', '湯', '満', '源', '溜', '溢', '溶', '滅', '滑', '满', '漂', '漏', '演', '漠', '漫', '潜', '潭', '澜', '激', '瀟', '灣', '火', '灭', '灵', '灼', '灾', '炉', '炫', '炬', '炮', '炸', '点', '為', '炼', '炽', '烈', '烙', '烟', '烧', '热', '焉', '無', '焰', '然', '焼', '煉', '煌', '煙', '照', '煮', '熊', '熟', '燃', '燎', '燕', '爆', '爱', '父', '爷', '爽', '片', '版', '牌', '牙', '牢', '牧', '物', '特', '犯', '状', '狂', '狐', '狗', '狙', '狠', '独', '狸', '狼', '猎', '猛', '猫', '獄', '獣', '玄', '率', '玉', '王', '玩', '环', '现', '珍', '珠', '班', '現', '球', '理', '琐', '琢', '琳', '琵', '琶', '環', '瓦', '甚', '生', '産', '用', '由', '甲', '电', '男', '画', '畅', '界', '畏', '留', '略', '畫', '異', '疆', '疑', '疯', '疲', '疼', '疾', '症', '痕', '痛', '癒', '癖', '癫', '発', '登', '白', '百', '的', '皆', '皇', '皈', '皮', '皿', '益', '盍', '监', '盒', '盔', '盗', '盛', '盟', '監', '目', '直', '相', '盼', '盾', '省', '眉', '看', '真', '眠', '眷', '眼', '着', '睁', '睛', '睦', '睿', '瞄', '瞒', '瞬', '瞳', '矢', '知', '短', '石', '矿', '码', '研', '破', '础', '硝', '硬', '确', '碍', '碎', '碰', '確', '磨', '示', '礼', '社', '祖', '祝', '神', '祟', '祥', '票', '祭', '禁', '福', '离', '禽', '私', '秋', '种', '科', '秘', '秦', '秩', '积', '称', '移', '稀', '程', '稍', '税', '種', '稱', '稳', '稷', '稿', '積', '穏', '穢', '穴', '究', '穷', '空', '穿', '突', '窗', '窟', '窥', '立', '站', '竞', '竟', '章', '童', '端', '笑', '笔', '笛', '符', '第', '筈', '等', '筋', '筑', '答', '策', '筝', '筮', '筹', '签', '简', '箓', '算', '箝', '管', '箫', '箱', '節', '範', '簒', '簡', '簪', '籍', '类', '粮', '粹', '精', '糖', '系', '約', '紅', '紛', '素', '索', '紧', '紫', '累', '細', '紹', '紺', '終', '組', '経', '結', '絡', '統', '絶', '継', '続', '維', '緊', '総', '緑', '緒', '線', '編', '練', '縛', '縦', '繁', '繋', '織', '繰', '纠', '红', '约', '级', '纪', '纯', '纳', '纵', '纷', '纸', '线', '练', '组', '细', '织', '终', '绍', '经', '结', '绕', '绘', '给', '绚', '络', '绝', '统', '继', '绩', '绪', '续', '绳', '维', '绷', '综', '绽', '绿', '缈', '缓', '编', '缘', '缝', '缥', '缳', '缴', '缺', '网', '罕', '罠', '罪', '置', '羅', '美', '群', '義', '羲', '羽', '翁', '習', '翘', '翩', '翻', '耀', '老', '考', '者', '而', '耍', '耐', '耕', '耗', '耳', '职', '联', '聚', '聞', '聡', '聴', '肃', '肉', '肠', '股', '肩', '育', '肾', '胆', '背', '胎', '胜', '胞', '胡', '胧', '胸', '能', '脅', '脉', '脑', '脚', '脱', '脸', '腕', '腹', '腺', '腻', '腾', '臆', '臣', '自', '臭', '至', '致', '興', '舍', '舞', '航', '般', '船', '良', '艰', '色', '艺', '艾', '节', '芒', '芮', '花', '苍', '苏', '苔', '苗', '若', '苦', '英', '范', '茉', '茫', '茵', '草', '荒', '荡', '药', '莉', '莎', '莫', '获', '莽', '菊', '菜', '菫', '華', '萌', '营', '落', '著', '葛', '葵', '蒐', '蒙', '蓝', '蔵', '薄', '薬', '藍', '藏', '藤', '蘇', '虏', '虑', '虚', '虞', '虹', '虽', '蚀', '蚁', '蚂', '蚱', '蛇', '蛋', '蛛', '蛮', '蜘', '蜜', '蝶', '蝼', '融', '螢', '蠢', '血', '行', '衍', '術', '街', '衡', '衣', '补', '表', '衷', '袅', '袍', '被', '袭', '裂', '装', '裏', '裔', '裕', '補', '製', '襲', '西', '要', '覆', '見', '規', '視', '覚', '覧', '観', '见', '观', '规', '视', '觉', '角', '解', '触', '言', '計', '訊', '記', '訪', '設', '許', '訳', '評', '試', '話', '誌', '認', '誓', '語', '誤', '説', '読', '誰', '調', '談', '論', '諦', '諾', '謎', '謝', '識', '譚', '警', '譯', '議', '譲', '護', '计', '认', '讨', '让', '议', '记', '讲', '许', '论', '设', '访', '诀', '证', '评', '识', '诈', '诉', '词', '诏', '试', '诗', '诚', '诛', '话', '诠', '诡', '该', '语', '误', '诱', '说', '请', '诸', '诺', '读', '谁', '调', '谈', '谋', '谓', '谜', '谢', '谨', '谱', '谷', '豊', '象', '豪', '貌', '負', '財', '販', '貫', '貴', '買', '費', '資', '質', '賽', '负', '贡', '责', '败', '账', '货', '质', '贪', '购', '贯', '贵', '费', '贼', '资', '赋', '赌', '赖', '赛', '赠', '赢', '赤', '赫', '走', '赵', '起', '超', '越', '趣', '足', '跃', '跋', '跑', '距', '跟', '跡', '跨', '路', '跳', '踏', '踪', '蹄', '身', '躲', '軍', '軟', '転', '軸', '軽', '較', '輝', '轉', '车', '轨', '轩', '转', '轮', '软', '轰', '轻', '载', '较', '辅', '辆', '辉', '辑', '辘', '辛', '辜', '辞', '辟', '辣', '辨', '辰', '边', '辺', '込', '达', '辿', '过', '迈', '迎', '运', '近', '返', '还', '这', '进', '远', '连', '迟', '迥', '迭', '述', '迷', '迹', '追', '退', '送', '适', '逃', '逆', '选', '透', '逐', '递', '途', '通', '逝', '速', '造', '逢', '連', '進', '逸', '逻', '逼', '遁', '遅', '遇', '遊', '運', '遍', '過', '道', '達', '違', '遗', '遠', '遣', '遥', '適', '遭', '選', '避', '邀', '那', '邦', '邪', '邸', '郡', '部', '郷', '都', '鄙', '酌', '配', '酒', '酝', '酥', '酬', '酷', '酿', '醒', '采', '释', '里', '重', '野', '量', '金', '針', '鈍', '鈴', '銀', '鋭', '録', '鍵', '鐘', '针', '钓', '钜', '钧', '钮', '钱', '铁', '铠', '银', '铸', '铺', '锁', '锄', '锋', '错', '键', '镇', '長', '长', '閉', '開', '間', '関', '闘', '门', '闪', '问', '闯', '闲', '间', '闻', '阉', '阔', '队', '阱', '防', '阳', '阴', '阵', '阶', '阻', '阿', '附', '际', '陆', '陈', '陌', '降', '限', '院', '陣', '除', '陥', '险', '陪', '陰', '陲', '陵', '陷', '険', '陽', '隅', '隊', '階', '随', '隐', '隔', '際', '障', '隠', '隣', '难', '雄', '集', '雕', '雛', '離', '難', '雨', '雪', '雲', '零', '雷', '雾', '需', '霄', '震', '霊', '霜', '霧', '露', '霸', '靄', '青', '静', '非', '靠', '面', '靴', '鞘', '鞭', '韩', '音', '韵', '響', '順', '須', '頼', '題', '顔', '願', '類', '页', '顶', '项', '顺', '须', '顽', '顾', '顿', '预', '领', '频', '颖', '题', '颜', '额', '颠', '風', '风', '飘', '飛', '飞', '食', '餃', '養', '館', '餮', '饕', '饥', '饿', '馆', '馈', '首', '香', '馬', '馴', '駄', '駆', '騒', '験', '驚', '马', '驯', '驰', '驱', '驶', '驾', '骄', '骆', '骊', '骋', '验', '骑', '骨', '髓', '體', '高', '鬼', '魂', '魄', '魅', '魔', '魚', '鮮', '鲁', '鲜', '鳖', '鳞', '鳥', '鸡', '鸣', '鹿', '麓', '麗', '麟', '麦', '麺', '麻', '黄', '黑', '黒', '黔', '默', '黯', '黴', '鼎', '鼓', '鼠', '齢', '龙', '가', '각', '간', '감', '갑', '강', '거', '게', '겨', '결', '경', '계', '고', '곳', '공', '과', '괘', '국', '권', '기', '까', '꾸', '뀌', '나', '날', '남', '내', '너', '녀', '뉴', '느', '는', '늘', '능', '니', '다', '담', '당', '대', '던', '도', '뒤', '드', '득', '들', '등', '디', '딩', '따', '딱', '떠', '라', '란', '러', '럼', '레', '로', '률', '르', '른', '를', '리', '린', '릴', '만', '말', '망', '맵', '멈', '메', '며', '명', '몇', '모', '목', '무', '문', '물', '민', '밀', '바', '받', '배', '버', '벤', '벨', '별', '병', '볼', '부', '분', '불', '붙', '브', '비', '뾰', '사', '살', '상', '생', '서', '선', '섭', '섯', '세', '션', '소', '속', '수', '숨', '스', '습', '시', '식', '신', '씩', '아', '알', '았', '앞', '액', '야', '양', '어', '언', '없', '엇', '에', '엔', '여', '연', '영', '오', '올', '요', '용', '우', '욱', '움', '위', '육', '으', '은', '을', '의', '이', '인', '일', '임', '입', '있', '자', '작', '장', '저', '적', '전', '점', '정', '제', '족', '존', '좀', '종', '좋', '주', '준', '줄', '중', '즐', '지', '직', '진', '징', '쯔', '착', '찬', '처', '첩', '체', '쳐', '추', '춘', '춰', '츠', '치', '커', '퀴', '킵', '탐', '택', '템', '토', '톱', '튀', '트', '특', '파', '퍼', '펼', '풀', '피', '하', '한', '할', '합', '해', '행', '향', '험', '현', '협', '호', '화', '확', '획', 'ﬀ', 'ﬁ', 'ﬂ', '️', '︠', '︡', '\\ufeff', '！', '％', '＆', '（', '）', '＊', '＋', '，', '－', '．', '／', '０', '１', '２', '３', '４', '５', '６', '７', '８', '９', '：', '；', '＜', '＞', '？', 'Ａ', 'Ｂ', 'Ｃ', 'Ｄ', 'Ｅ', 'Ｆ', 'Ｇ', 'Ｈ', 'Ｉ', 'Ｋ', 'Ｌ', 'Ｍ', 'Ｎ', 'Ｏ', 'Ｐ', 'Ｑ', 'Ｒ', 'Ｓ', 'Ｔ', 'Ｕ', 'Ｖ', 'Ｗ', 'Ｘ', 'Ｙ', 'Ｚ', 'ａ', 'ｃ', 'ｅ', 'ｆ', 'ｈ', 'ｉ', 'ｌ', 'ｍ', 'ｎ', 'ｏ', 'ｐ', 'ｒ', 'ｓ', 'ｔ', 'ｕ', 'ｘ', 'ｙ', '～', '･', '￣', '￼', '𝕷', '𝖊', '𝖎', '𝖔', '𝖘', '𝖙', '🇱', '🇵', '🌈', '🌌', '🌱', '🌵', '🍎', '🍰', '🎁', '🎒', '🎣', '🎨', '🎬', '🎮', '🎲', '🎹', '🏆', '🏻', '🐛', '🐢', '🐧', '🐫', '🐬', '🐱', '🐶', '🐺', '🐾', '👀', '👁', '👋', '👌', '👎', '👕', '👪', '👺', '💁', '💎', '💗', '💣', '💥', '💧', '📈', '📕', '📦', '📬', '🔥', '🔦', '🔨', '🔪', '🔫', '🔴', '🔶', '🔷', '🔸', '🔹', '🕆', '🕈', '🕹', '🗨', '🗿', '🙌', '🚀', '🚩', '🤖', '🤛', '🤠', '🧟', '🧠', '🧪', '🪂']\n"
     ]
    }
   ],
   "source": [
    "vocab = sorted(set(text))\n",
    "print(f'{len(vocab)} unique characters')\n",
    "print(vocab)"
   ]
  },
  {
   "cell_type": "markdown",
   "metadata": {},
   "source": [
    "### Processing of the description\n",
    "After retrieving a long string of game description, we get all the possible characters and vectorise them by converting each character to a numeric representation"
   ]
  },
  {
   "cell_type": "code",
   "execution_count": 11,
   "metadata": {},
   "outputs": [],
   "source": [
    "ids_from_chars = tf.keras.layers.StringLookup(\n",
    "    vocabulary=list(vocab), mask_token=None)\n",
    "chars_from_ids = tf.keras.layers.StringLookup(\n",
    "    vocabulary=ids_from_chars.get_vocabulary(), invert=True, mask_token=None)"
   ]
  },
  {
   "cell_type": "code",
   "execution_count": 12,
   "metadata": {},
   "outputs": [],
   "source": [
    "def text_from_ids(ids):\n",
    "  return tf.strings.reduce_join(chars_from_ids(ids), axis=-1)"
   ]
  },
  {
   "cell_type": "code",
   "execution_count": 13,
   "metadata": {},
   "outputs": [
    {
     "name": "stdout",
     "output_type": "stream",
     "text": [
      "D\n",
      "e\n",
      "a\n",
      "t\n",
      "h\n",
      " \n",
      "i\n",
      "s\n",
      " \n",
      "l\n"
     ]
    }
   ],
   "source": [
    "all_ids = ids_from_chars(tf.strings.unicode_split(text, 'UTF-8'))\n",
    "all_ids\n",
    "ids_dataset = tf.data.Dataset.from_tensor_slices(all_ids)\n",
    "for ids in ids_dataset.take(10):\n",
    "    print(chars_from_ids(ids).numpy().decode('utf-8'))"
   ]
  },
  {
   "cell_type": "code",
   "execution_count": 14,
   "metadata": {},
   "outputs": [
    {
     "name": "stdout",
     "output_type": "stream",
     "text": [
      "tf.Tensor(\n",
      "[b'D' b'e' b'a' b't' b'h' b' ' b'i' b's' b' ' b'l' b'o' b'n' b'e' b'l'\n",
      " b'y' b'.' b' ' b'H' b'e' b' ' b'h' b'a' b's' b' ' b'z' b'e' b'r' b'o'\n",
      " b' ' b'f' b'r' b'i' b'e' b'n' b'd' b's' b' ' b'o' b'n' b' ' b'h' b'i'\n",
      " b's' b' ' b'F' b'a' b'c' b'e' b'T' b'o' b'm' b'e' b' ' b'a' b'c' b'c'\n",
      " b'o' b'u' b'n' b't' b' ' b'a' b'n' b'd' b' ' b'n' b'o' b' ' b'o' b'n'\n",
      " b'e' b' ' b't' b'o' b' ' b'h' b'a' b'n' b'g' b' ' b'o' b'u' b't' b' '\n",
      " b'w' b'i' b't' b'h' b'.' b' ' b'S' b'o' b',' b' ' b'i' b'n' b' ' b'o'\n",
      " b'r' b'd' b'e'], shape=(101,), dtype=string)\n",
      "b'Death is lonely. He has zero friends on his FaceTome account and no one to hang out with. So, in orde'\n",
      "b'r to feel better he begins \\xe2\\x80\\x9cProject Deadlings\\xe2\\x80\\x9d. Death buys a factory where he can build his laborator'\n",
      "b'y and begin training a massive army of zombie minions. As the army of Deadlings grows, the mazes of t'\n",
      "b'he laboratory become deadlier, loaded with puzzles and death-defying traps. Different Deadlings have '\n",
      "b'their own unique abilities: Bonesack is agile - he can run and jump, Creep can climb on walls and cei'\n"
     ]
    }
   ],
   "source": [
    "seq_length = 100\n",
    "sequences = ids_dataset.batch(seq_length+1, drop_remainder=True)\n",
    "\n",
    "for seq in sequences.take(1):\n",
    "  print(chars_from_ids(seq))\n",
    "for seq in sequences.take(5):\n",
    "  print(text_from_ids(seq).numpy())"
   ]
  },
  {
   "cell_type": "code",
   "execution_count": 15,
   "metadata": {},
   "outputs": [],
   "source": [
    "def split_input_target(sequence):\n",
    "    input_text = sequence[:-1]\n",
    "    target_text = sequence[1:]\n",
    "    return input_text, target_text"
   ]
  },
  {
   "cell_type": "code",
   "execution_count": 16,
   "metadata": {},
   "outputs": [
    {
     "data": {
      "text/plain": [
       "(['A', 'c', 't', 'i', 'o'], ['c', 't', 'i', 'o', 'n'])"
      ]
     },
     "execution_count": 16,
     "metadata": {},
     "output_type": "execute_result"
    }
   ],
   "source": [
    "split_input_target(list(\"Action\"))"
   ]
  },
  {
   "cell_type": "code",
   "execution_count": 17,
   "metadata": {},
   "outputs": [
    {
     "name": "stdout",
     "output_type": "stream",
     "text": [
      "Input : b'Death is lonely. He has zero friends on his FaceTome account and no one to hang out with. So, in ord'\n",
      "Target: b'eath is lonely. He has zero friends on his FaceTome account and no one to hang out with. So, in orde'\n"
     ]
    }
   ],
   "source": [
    "dataset = sequences.map(split_input_target)\n",
    "for input_example, target_example in dataset.take(1):\n",
    "    print(\"Input :\", text_from_ids(input_example).numpy())\n",
    "    print(\"Target:\", text_from_ids(target_example).numpy())"
   ]
  },
  {
   "cell_type": "markdown",
   "metadata": {},
   "source": [
    "### Model\n",
    "What we would like the model to do is to predict the most probable next character when given a prompt. With this, it will be able to generate text,  character by character, using the dataset that we have trained it on.\n",
    "\n",
    "We will make use of keras model class. It starts with an embedding input layer that with map the character ID to a vector. Then we have 2 GRU layers followed by a Dense output layer."
   ]
  },
  {
   "cell_type": "code",
   "execution_count": 20,
   "metadata": {},
   "outputs": [
    {
     "data": {
      "text/plain": [
       "<PrefetchDataset element_spec=(TensorSpec(shape=(64, 100), dtype=tf.int64, name=None), TensorSpec(shape=(64, 100), dtype=tf.int64, name=None))>"
      ]
     },
     "execution_count": 20,
     "metadata": {},
     "output_type": "execute_result"
    }
   ],
   "source": [
    "# Batch size\n",
    "BATCH_SIZE = 64\n",
    "\n",
    "# Buffer size to shuffle the dataset\n",
    "# (TF data is designed to work with possibly infinite sequences,\n",
    "# so it doesn't attempt to shuffle the entire sequence in memory. Instead,\n",
    "# it maintains a buffer in which it shuffles elements).\n",
    "BUFFER_SIZE = 10000\n",
    "\n",
    "dataset = (\n",
    "    dataset\n",
    "    .shuffle(BUFFER_SIZE)\n",
    "    .batch(BATCH_SIZE, drop_remainder=True)\n",
    "    .prefetch(tf.data.experimental.AUTOTUNE))\n",
    "\n",
    "dataset"
   ]
  },
  {
   "cell_type": "code",
   "execution_count": 21,
   "metadata": {},
   "outputs": [],
   "source": [
    "# Length of the vocabulary in StringLookup Layer\n",
    "vocab_size = len(ids_from_chars.get_vocabulary())\n",
    "\n",
    "# The embedding dimension\n",
    "embedding_dim = 256\n",
    "\n",
    "# Number of RNN units\n",
    "rnn_units = 1024"
   ]
  },
  {
   "cell_type": "code",
   "execution_count": 22,
   "metadata": {},
   "outputs": [],
   "source": [
    "class MyModel(tf.keras.Model):\n",
    "  def __init__(self, vocab_size, embedding_dim, rnn_units):\n",
    "    super().__init__(self)\n",
    "    self.embedding = tf.keras.layers.Embedding(vocab_size, embedding_dim)\n",
    "    self.gru1 = tf.keras.layers.GRU(rnn_units,\n",
    "                                   return_sequences=True,\n",
    "                                   return_state=True)\n",
    "    self.gru2 = tf.keras.layers.GRU(rnn_units, return_sequences=True, return_state=True)\n",
    "    self.dense = tf.keras.layers.Dense(vocab_size)\n",
    "\n",
    "  def call(self, inputs, states=None, return_state=False, training=False):\n",
    "    x = inputs\n",
    "    x = self.embedding(x, training=training)\n",
    "    if states is None:\n",
    "      state1 = self.gru1.get_initial_state(x)\n",
    "      state2 = self.gru2.get_initial_state(x)\n",
    "    else:\n",
    "       state1, state2 = states\n",
    "    x, state1 = self.gru1(x, initial_state=state1, training=training)\n",
    "    x, state2 = self.gru2(x, initial_state=state2, training=training)\n",
    "    x = self.dense(x, training=training)\n",
    "\n",
    "    if return_state:\n",
    "      return x, [state1, state2]\n",
    "\n",
    "    if return_state:\n",
    "      return x, states\n",
    "    else:\n",
    "      return x"
   ]
  },
  {
   "cell_type": "code",
   "execution_count": 23,
   "metadata": {},
   "outputs": [],
   "source": [
    "model = MyModel(\n",
    "    vocab_size=vocab_size,\n",
    "    embedding_dim=embedding_dim,\n",
    "    rnn_units=rnn_units)"
   ]
  },
  {
   "cell_type": "code",
   "execution_count": 24,
   "metadata": {},
   "outputs": [
    {
     "name": "stdout",
     "output_type": "stream",
     "text": [
      "(64, 100, 3154) # (batch_size, sequence_length, vocab_size)\n",
      "Model: \"my_model\"\n",
      "_________________________________________________________________\n",
      " Layer (type)                Output Shape              Param #   \n",
      "=================================================================\n",
      " embedding (Embedding)       multiple                  807424    \n",
      "                                                                 \n",
      " gru (GRU)                   multiple                  3938304   \n",
      "                                                                 \n",
      " gru_1 (GRU)                 multiple                  6297600   \n",
      "                                                                 \n",
      " dense (Dense)               multiple                  3232850   \n",
      "                                                                 \n",
      "=================================================================\n",
      "Total params: 14,276,178\n",
      "Trainable params: 14,276,178\n",
      "Non-trainable params: 0\n",
      "_________________________________________________________________\n"
     ]
    }
   ],
   "source": [
    "for input_example_batch, target_example_batch in dataset.take(1):\n",
    "    example_batch_predictions = model(input_example_batch)\n",
    "    print(example_batch_predictions.shape, \"# (batch_size, sequence_length, vocab_size)\")\n",
    "model.summary()"
   ]
  },
  {
   "cell_type": "code",
   "execution_count": 25,
   "metadata": {},
   "outputs": [
    {
     "data": {
      "text/plain": [
       "array([2004, 1663, 1957, 1262, 1222, 2724,  593, 1984, 1730,  646,  502,\n",
       "        213,  905, 2756, 1191, 1286, 1689, 3138, 2910, 2873, 2590,   69,\n",
       "        404,  149, 2249,  782, 2065, 1127, 2862, 2677,  689, 1859, 1714,\n",
       "         96,  511, 2839,  827, 2950, 1809,  361, 2868, 2748, 3137, 2257,\n",
       "       2104,  447, 2567,  676, 3058, 2724,  541, 2113,  795,  140, 2576,\n",
       "        891,  323, 1090, 1057,  114, 1633,  521,   22, 2266, 3012, 2655,\n",
       "       2221,  669,  708, 2260, 2740,  166, 2994,  373, 2343, 1495, 2245,\n",
       "       1057, 2708,  399, 1779, 1161,   72,  528, 2737, 1777,  720, 2736,\n",
       "        955,  613, 2289,  331,  481, 2237,  953, 1858, 2698, 1303, 1148,\n",
       "       2133], dtype=int64)"
      ]
     },
     "execution_count": 25,
     "metadata": {},
     "output_type": "execute_result"
    }
   ],
   "source": [
    "sampled_indices = tf.random.categorical(example_batch_predictions[0], num_samples=1)\n",
    "sampled_indices = tf.squeeze(sampled_indices, axis=-1).numpy()\n",
    "sampled_indices"
   ]
  },
  {
   "cell_type": "code",
   "execution_count": 26,
   "metadata": {},
   "outputs": [
    {
     "name": "stdout",
     "output_type": "stream",
     "text": [
      "Prediction shape:  (64, 100, 3154)  # (batch_size, sequence_length, vocab_size)\n",
      "Mean loss:         tf.Tensor(8.055787, shape=(), dtype=float32)\n"
     ]
    },
    {
     "data": {
      "text/plain": [
       "3151.9832"
      ]
     },
     "execution_count": 26,
     "metadata": {},
     "output_type": "execute_result"
    }
   ],
   "source": [
    "loss = tf.losses.SparseCategoricalCrossentropy(from_logits=True)\n",
    "example_batch_mean_loss = loss(target_example_batch, example_batch_predictions)\n",
    "print(\"Prediction shape: \", example_batch_predictions.shape, \" # (batch_size, sequence_length, vocab_size)\")\n",
    "print(\"Mean loss:        \", example_batch_mean_loss)\n",
    "tf.exp(example_batch_mean_loss).numpy()"
   ]
  },
  {
   "cell_type": "code",
   "execution_count": 27,
   "metadata": {},
   "outputs": [],
   "source": [
    "model.compile(optimizer='adam', loss=loss)"
   ]
  },
  {
   "cell_type": "code",
   "execution_count": 28,
   "metadata": {},
   "outputs": [],
   "source": [
    "# Directory where the checkpoints will be saved\n",
    "checkpoint_dir = './training_checkpoints'\n",
    "# Name of the checkpoint files\n",
    "checkpoint_prefix = os.path.join(checkpoint_dir, \"ckpt_{epoch}\")\n",
    "\n",
    "checkpoint_callback = tf.keras.callbacks.ModelCheckpoint(\n",
    "    filepath=checkpoint_prefix,\n",
    "    save_weights_only=True)"
   ]
  },
  {
   "cell_type": "code",
   "execution_count": 29,
   "metadata": {},
   "outputs": [
    {
     "name": "stdout",
     "output_type": "stream",
     "text": [
      "Epoch 1/16\n",
      "1402/1402 [==============================] - 140s 96ms/step - loss: 2.5283\n",
      "Epoch 2/16\n",
      "1402/1402 [==============================] - 134s 95ms/step - loss: 1.4568\n",
      "Epoch 3/16\n",
      "1402/1402 [==============================] - 136s 97ms/step - loss: 1.3465\n",
      "Epoch 4/16\n",
      "1402/1402 [==============================] - 135s 96ms/step - loss: 1.2959\n",
      "Epoch 5/16\n",
      "1402/1402 [==============================] - 134s 95ms/step - loss: 1.2627\n",
      "Epoch 6/16\n",
      "1402/1402 [==============================] - 134s 95ms/step - loss: 1.2373\n",
      "Epoch 7/16\n",
      "1402/1402 [==============================] - 134s 95ms/step - loss: 1.2166\n",
      "Epoch 8/16\n",
      "1402/1402 [==============================] - 135s 96ms/step - loss: 1.1992\n",
      "Epoch 9/16\n",
      "1402/1402 [==============================] - 134s 95ms/step - loss: 1.1844\n",
      "Epoch 10/16\n",
      "1402/1402 [==============================] - 133s 95ms/step - loss: 1.1714\n",
      "Epoch 11/16\n",
      "1402/1402 [==============================] - 135s 96ms/step - loss: 1.1600\n",
      "Epoch 12/16\n",
      "1402/1402 [==============================] - 134s 95ms/step - loss: 1.1497\n",
      "Epoch 13/16\n",
      "1402/1402 [==============================] - 133s 95ms/step - loss: 1.1405\n",
      "Epoch 14/16\n",
      "1402/1402 [==============================] - 133s 95ms/step - loss: 1.1324\n",
      "Epoch 15/16\n",
      "1402/1402 [==============================] - 135s 96ms/step - loss: 1.1247\n",
      "Epoch 16/16\n",
      "1402/1402 [==============================] - 134s 95ms/step - loss: 1.1178\n"
     ]
    }
   ],
   "source": [
    "EPOCHS = 16\n",
    "history = model.fit(dataset, epochs=EPOCHS, callbacks=[checkpoint_callback])"
   ]
  },
  {
   "cell_type": "code",
   "execution_count": 30,
   "metadata": {},
   "outputs": [],
   "source": [
    "class OneStep(tf.keras.Model):\n",
    "  def __init__(self, model, chars_from_ids, ids_from_chars, temperature=1.0):\n",
    "    super().__init__()\n",
    "    self.temperature = temperature\n",
    "    self.model = model\n",
    "    self.chars_from_ids = chars_from_ids\n",
    "    self.ids_from_chars = ids_from_chars\n",
    "\n",
    "    # Create a mask to prevent \"[UNK]\" from being generated.\n",
    "    skip_ids = self.ids_from_chars(['[UNK]'])[:, None]\n",
    "    sparse_mask = tf.SparseTensor(\n",
    "        # Put a -inf at each bad index.\n",
    "        values=[-float('inf')]*len(skip_ids),\n",
    "        indices=skip_ids,\n",
    "        # Match the shape to the vocabulary\n",
    "        dense_shape=[len(ids_from_chars.get_vocabulary())])\n",
    "    self.prediction_mask = tf.sparse.to_dense(sparse_mask)\n",
    "\n",
    "  @tf.function\n",
    "  def generate_one_step(self, inputs, states=None):\n",
    "    # Convert strings to token IDs.\n",
    "    input_chars = tf.strings.unicode_split(inputs, 'UTF-8')\n",
    "    input_ids = self.ids_from_chars(input_chars).to_tensor()\n",
    "\n",
    "    # Run the model.\n",
    "    # predicted_logits.shape is [batch, char, next_char_logits]\n",
    "    predicted_logits, states = self.model(inputs=input_ids, states=states,\n",
    "                                          return_state=True)\n",
    "    # Only use the last prediction.\n",
    "    predicted_logits = predicted_logits[:, -1, :]\n",
    "    predicted_logits = predicted_logits/self.temperature\n",
    "    # Apply the prediction mask: prevent \"[UNK]\" from being generated.\n",
    "    predicted_logits = predicted_logits + self.prediction_mask\n",
    "\n",
    "    # Sample the output logits to generate token IDs.\n",
    "    predicted_ids = tf.random.categorical(predicted_logits, num_samples=1)\n",
    "    predicted_ids = tf.squeeze(predicted_ids, axis=-1)\n",
    "\n",
    "    # Convert from token ids to characters\n",
    "    predicted_chars = self.chars_from_ids(predicted_ids)\n",
    "\n",
    "    # Return the characters and model state.\n",
    "    return predicted_chars, states"
   ]
  },
  {
   "cell_type": "code",
   "execution_count": 31,
   "metadata": {},
   "outputs": [
    {
     "name": "stdin",
     "output_type": "stream",
     "text": [
      "Input prompt:  Fight\n"
     ]
    }
   ],
   "source": [
    "one_step_model = OneStep(model, chars_from_ids, ids_from_chars)\n",
    "prompt = input(\"Input prompt: \")\n",
    "li = list(prompt.split(\" \"))"
   ]
  },
  {
   "cell_type": "markdown",
   "metadata": {},
   "source": [
    "### Output\n",
    "After the model has been trained, it is able to generate text by passing in some text and predicting the next character, continuously generating text for us."
   ]
  },
  {
   "cell_type": "code",
   "execution_count": 32,
   "metadata": {},
   "outputs": [
    {
     "name": "stdout",
     "output_type": "stream",
     "text": [
      "Fight the unique Dimensions rockething about different hordes, and whatever you must restauntly meet other difficulty. VERY UPDATING CONTENT! &amp; YOUTUS There are no rooms we launded away, or else you've made in the PVILE-TOON is created! Team FPS with a very own. Om UP494km2or - Legendary Edition up with additional demon experience combined with movies, combat, extremely different styles of menacing may become asteroids, colors and obstacles, obliterate as leaderboard and experience fournets opponents. Variety Of special attributes, battle mechanics and gravity-five surprises sitting with increasingly item killing attacks on the inventory. An odyscend to earn features, and a kick and hide all knows we find three days such as American swords, Shift - suggest for combat! • Official Gameplay •Definity 8 Unique Design Accompany - 4 fierces after exploding, each one bullet eaca! The game is required! Rogue horror, machine gun and brag-as-bike. Up to 8 bonus levels Adamoniac 15 raiders, 18 yea \n",
      "\n",
      "________________________________________________________________________________\n",
      "\n",
      "Run time: 5.313528299331665\n"
     ]
    }
   ],
   "source": [
    "start = time.time()\n",
    "states = None\n",
    "next_char = tf.constant(li)\n",
    "result = [next_char]\n",
    "\n",
    "for n in range(1000):\n",
    "  next_char, states = one_step_model.generate_one_step(next_char, states=states)\n",
    "  result.append(next_char)\n",
    "\n",
    "result = tf.strings.join(result)\n",
    "end = time.time()\n",
    "print(result[0].numpy().decode('utf-8'), '\\n\\n' + '_'*80)\n",
    "print('\\nRun time:', end - start)"
   ]
  },
  {
   "cell_type": "code",
   "execution_count": null,
   "metadata": {},
   "outputs": [],
   "source": []
  },
  {
   "cell_type": "code",
   "execution_count": null,
   "metadata": {},
   "outputs": [],
   "source": []
  },
  {
   "cell_type": "markdown",
   "metadata": {},
   "source": [
    "### 2nd Attempt\n",
    "As seen from the above output, it is somewhat able to generate proper sentences, but it still contain random string of numbers and characters, as well as spelling mistakes here and there. So this time, we will clean up the input dataset even more, by removing non-english characters and fixing some spacing issues."
   ]
  },
  {
   "cell_type": "code",
   "execution_count": 35,
   "metadata": {},
   "outputs": [
    {
     "name": "stdout",
     "output_type": "stream",
     "text": [
      "Length of text: 7163423 characters\n",
      "Death is lonely. He zero on his account and no one to out with. So, in order to feel better he  Project. Death a factory where he can build his laboratory and begin training a massive army of zombie. As the army of, the of the laboratory become, loaded with and death - traps. Different have their own unique : is agile - he can run and jump, Creep can climb on and, slowly but carefully and ... well gastric so he can use his powerful gas to fly. You will have to combine all of these to find your way in Death ' s Maze. Can you help Death to kill his boredom? Will you be able to navigate all 60 + available in? Will you complete Project, and successfully train all of your zombie? Arcade side - with strategy! Four different of zombie with unique! 70 of pure zombie gore fun! Additional game mode - Nightmare - only for the! What ' s new in the Rotten Edition? 10 brand new bonus 15 new in Nightmare Mode Steam and Full controller support Nightmare mode unlocked from the beginning Steam Trading and graphics Alien Breed  3 : Descent is the final explosive chapter in the Alien Breed  series, and is a science fiction arcade - shooter with an epic story, of highly intelligent alien, high - impact and stunning, Epic ' Unreal  Engine 3. Descend into hell and once again take control of the hero, , the ship  s Chief Engineer, in his last stand against the savage alien horde. While the vessel, the, and the alien space craft plunge into the planet  s atmosphere, with an icy ocean promising a watery grave, you have just to defy a grisly death and survive the alien onslaught for the final time. As you struggle into the sinking alien ship, through the freezing flooding every corridor, the truth surrounding the existence of the Breed is finally uncovered  In addition to the thrilling conclusion to the single - player campaign and the relentless and competitive  Survivor , the game action -, two - player - operative battle. Key Alien Breed  3 : Descent - The stunning final chapter in the Alien Breed  trilogy - an action - mix of arcade - shooter, survival - horror and tactical and. The final descent into hell! NEW - Set  battle the breed through flooded and hull walk. NEW  Third - person action - take control of the hero, , in the new action -, third - person, . NEW  Fight the last stand armed with powerful new weaponry : The Project X is a   that everything it comes into contact with. The Electro - Link gun of electricity and also chain lightning to damage nearby. NEW  Survive new alien  the  Electro - shocker  and dramatic with the final. Epic single - player Story mode  The final chapter in the single - player campaign mode that the thrilling narrative of the game through huge and, the new research lab level. Single - player Survivor mode  Resist endless of intense alien horde in specifically designed arena. Single - player Free - play mode  A single - player challenge mode  beat your high score on a previously campaign mission. Two - player - operative play mode  Work together to defeat the alien horde across three specially assault for two. Two - player - operative Survivor mode  Join and try to survive three specifically designed arena. Get competitive and challenge to beat your survivor on the extensive Leader -. Additional  Quick Match / Create Game / / Voice Chat / Leader - / Steam / - operative. shop  Search fallen and to accumulate cash, and then tactically spend it on / kit in the in - game shop. Playable / trial  A purpose - designed, action - free sample section of Alien Breed  3 : Descent,  The Prologue, which also a time - limited Survivor mode map. Meet the continuation of the platformer Project : R. E. B. O. O. T! You have to play for the intelligent robot, by the best for the annual tournament ' Project : R. E. B. O. O. T '. The best from all the are their each year, which must pass 30, with deadly traps and various. In the game you expect sea and fun, as well as new, unique and a variety of. Also do not forget that your main goal to reach the end and prove to everyone that you are the best! Turtle Turtle is an old - school Action - Adventure game, Explore immense 2D. Day after day, watched creepy little crawl past his window. Everywhere. Like the pitter patter of on a tin roof, the squirming sensation of crawling under the floor. The days flew by, each like the one before, monotonous. lay down with the sunset every night, and awoke to the cock - a - doodle of the rooster outside every morning. The by, the spring rain, autumn sun, leaves of fall and now snow is falling on the roof. curled up in his shell and fell into a long, deep sleep. Winter was as it always is, and soon the first of the sun broke through the dirty, window. ' It like it ' s time to wake up ' he thought, opening his heavy. As he crept outside his house, he was in for a big surprise. The little had grown into giant, dangerous! Huge, angry bees circled around his home, ready to well, sting! Mad from house to house, everything in their with fearsom\n"
     ]
    }
   ],
   "source": [
    "data2 = data2['About the game'].str.join('')\n",
    "text = data2.str.cat(sep = ' ')\n",
    "words = set(nltk.corpus.words.words())\n",
    "printable = set(string.printable)\n",
    "text = \" \".join(w for w in nltk.wordpunct_tokenize(text) if w.lower() in words or not w.isalpha())\n",
    "text = ''.join(filter(lambda x: x in printable, text))\n",
    "text = re.sub(r'\\s([?.,!\"](?:\\s|$))', r'\\1', text)\n",
    "text = re.sub(r\"\\b\\s+'\\b\", r\"'\", text)\n",
    "print(f'Length of text: {len(text)} characters')\n",
    "print(text[:5000])"
   ]
  },
  {
   "cell_type": "code",
   "execution_count": 36,
   "metadata": {
    "colab": {
     "base_uri": "https://localhost:8080/"
    },
    "id": "OUhOYvuV3TQ4",
    "outputId": "06360c5c-3262-44ba-d9f0-ca3bf75b55c7"
   },
   "outputs": [
    {
     "name": "stdout",
     "output_type": "stream",
     "text": [
      "92 unique characters\n"
     ]
    }
   ],
   "source": [
    "vocab = sorted(set(text))\n",
    "print(f'{len(vocab)} unique characters')"
   ]
  },
  {
   "cell_type": "code",
   "execution_count": 37,
   "metadata": {},
   "outputs": [
    {
     "name": "stdout",
     "output_type": "stream",
     "text": [
      "[' ', '!', '#', '$', '%', '&', \"'\", '(', ')', '*', '+', ',', '-', '.', '/', '0', '1', '2', '3', '4', '5', '6', '7', '8', '9', ':', ';', '=', '?', '@', 'A', 'B', 'C', 'D', 'E', 'F', 'G', 'H', 'I', 'J', 'K', 'L', 'M', 'N', 'O', 'P', 'Q', 'R', 'S', 'T', 'U', 'V', 'W', 'X', 'Y', 'Z', '[', '\\\\', ']', '^', '_', '`', 'a', 'b', 'c', 'd', 'e', 'f', 'g', 'h', 'i', 'j', 'k', 'l', 'm', 'n', 'o', 'p', 'q', 'r', 's', 't', 'u', 'v', 'w', 'x', 'y', 'z', '{', '|', '}', '~']\n"
     ]
    }
   ],
   "source": [
    "print(vocab)"
   ]
  },
  {
   "cell_type": "code",
   "execution_count": 38,
   "metadata": {
    "id": "wqPKdkUq3Vue"
   },
   "outputs": [
    {
     "name": "stdout",
     "output_type": "stream",
     "text": [
      "D\n",
      "e\n",
      "a\n",
      "t\n",
      "h\n",
      " \n",
      "i\n",
      "s\n",
      " \n",
      "l\n",
      "tf.Tensor(\n",
      "[b'D' b'e' b'a' b't' b'h' b' ' b'i' b's' b' ' b'l' b'o' b'n' b'e' b'l'\n",
      " b'y' b'.' b' ' b'H' b'e' b' ' b'z' b'e' b'r' b'o' b' ' b'o' b'n' b' '\n",
      " b'h' b'i' b's' b' ' b'a' b'c' b'c' b'o' b'u' b'n' b't' b' ' b'a' b'n'\n",
      " b'd' b' ' b'n' b'o' b' ' b'o' b'n' b'e' b' ' b't' b'o' b' ' b'o' b'u'\n",
      " b't' b' ' b'w' b'i' b't' b'h' b'.' b' ' b'S' b'o' b',' b' ' b'i' b'n'\n",
      " b' ' b'o' b'r' b'd' b'e' b'r' b' ' b't' b'o' b' ' b'f' b'e' b'e' b'l'\n",
      " b' ' b'b' b'e' b't' b't' b'e' b'r' b' ' b'h' b'e' b' ' b' ' b'P' b'r'\n",
      " b'o' b'j' b'e'], shape=(101,), dtype=string)\n",
      "b'Death is lonely. He zero on his account and no one to out with. So, in order to feel better he  Proje'\n",
      "b'ct. Death a factory where he can build his laboratory and begin training a massive army of zombie. As'\n",
      "b' the army of, the of the laboratory become, loaded with and death - traps. Different have their own u'\n",
      "b'nique : is agile - he can run and jump, Creep can climb on and, slowly but carefully and ... well gas'\n",
      "b'tric so he can use his powerful gas to fly. You will have to combine all of these to find your way in'\n"
     ]
    }
   ],
   "source": [
    "ids_from_chars = tf.keras.layers.StringLookup(\n",
    "    vocabulary=list(vocab), mask_token=None)\n",
    "chars_from_ids = tf.keras.layers.StringLookup(\n",
    "    vocabulary=ids_from_chars.get_vocabulary(), invert=True, mask_token=None)\n",
    "all_ids = ids_from_chars(tf.strings.unicode_split(text, 'UTF-8'))\n",
    "ids_dataset = tf.data.Dataset.from_tensor_slices(all_ids)\n",
    "for ids in ids_dataset.take(10):\n",
    "    print(chars_from_ids(ids).numpy().decode('utf-8'))\n",
    "seq_length = 100\n",
    "sequences = ids_dataset.batch(seq_length+1, drop_remainder=True)\n",
    "for seq in sequences.take(1):\n",
    "  print(chars_from_ids(seq))\n",
    "for seq in sequences.take(5):\n",
    "  print(text_from_ids(seq).numpy())"
   ]
  },
  {
   "cell_type": "code",
   "execution_count": 39,
   "metadata": {
    "colab": {
     "base_uri": "https://localhost:8080/"
    },
    "id": "cKMMp4iQ41F-",
    "outputId": "9b0b7c75-8b8e-4597-d5ab-b2d30580c6f1"
   },
   "outputs": [
    {
     "data": {
      "text/plain": [
       "(['A', 'c', 't', 'i', 'o'], ['c', 't', 'i', 'o', 'n'])"
      ]
     },
     "execution_count": 39,
     "metadata": {},
     "output_type": "execute_result"
    }
   ],
   "source": [
    "split_input_target(list(\"Action\"))"
   ]
  },
  {
   "cell_type": "code",
   "execution_count": 40,
   "metadata": {
    "id": "QR5knSv743H8"
   },
   "outputs": [
    {
     "name": "stdout",
     "output_type": "stream",
     "text": [
      "Input : b'Death is lonely. He zero on his account and no one to out with. So, in order to feel better he  Proj'\n",
      "Target: b'eath is lonely. He zero on his account and no one to out with. So, in order to feel better he  Proje'\n"
     ]
    }
   ],
   "source": [
    "dataset = sequences.map(split_input_target)\n",
    "for input_example, target_example in dataset.take(1):\n",
    "    print(\"Input :\", text_from_ids(input_example).numpy())\n",
    "    print(\"Target:\", text_from_ids(target_example).numpy())\n",
    "\n",
    "# Batch size\n",
    "BATCH_SIZE = 64\n",
    "\n",
    "# Buffer size to shuffle the dataset\n",
    "# (TF data is designed to work with possibly infinite sequences,\n",
    "# so it doesn't attempt to shuffle the entire sequence in memory. Instead,\n",
    "# it maintains a buffer in which it shuffles elements).\n",
    "BUFFER_SIZE = 10000\n",
    "\n",
    "dataset = (\n",
    "    dataset\n",
    "    .shuffle(BUFFER_SIZE)\n",
    "    .batch(BATCH_SIZE, drop_remainder=True)\n",
    "    .prefetch(tf.data.experimental.AUTOTUNE))\n",
    "\n",
    "# Length of the vocabulary in StringLookup Layer\n",
    "vocab_size = len(ids_from_chars.get_vocabulary())\n",
    "\n",
    "# The embedding dimension\n",
    "embedding_dim = 256\n",
    "\n",
    "# Number of RNN units\n",
    "rnn_units = 1024"
   ]
  },
  {
   "cell_type": "code",
   "execution_count": 41,
   "metadata": {
    "id": "G3zZKull4_11"
   },
   "outputs": [],
   "source": [
    "class MyModel2(tf.keras.Model):\n",
    "  def __init__(self, vocab_size, embedding_dim, rnn_units):\n",
    "    super().__init__(self)\n",
    "    self.embedding = tf.keras.layers.Embedding(vocab_size, embedding_dim)\n",
    "    self.gru1 = tf.keras.layers.GRU(rnn_units,\n",
    "                                   return_sequences=True,\n",
    "                                   return_state=True)\n",
    "    self.gru2 = tf.keras.layers.GRU(rnn_units, return_sequences=True, return_state=True)\n",
    "    self.dense = tf.keras.layers.Dense(vocab_size)\n",
    "\n",
    "  def call(self, inputs, states=None, return_state=False, training=False):\n",
    "    x = inputs\n",
    "    x = self.embedding(x, training=training)\n",
    "    if states is None:\n",
    "      state1 = self.gru1.get_initial_state(x)\n",
    "      state2 = self.gru2.get_initial_state(x)\n",
    "    else:\n",
    "       state1, state2 = states\n",
    "    x, state1 = self.gru1(x, initial_state=state1, training=training)\n",
    "    x, state2 = self.gru2(x, initial_state=state2, training=training)\n",
    "    x = self.dense(x, training=training)\n",
    "\n",
    "    if return_state:\n",
    "      return x, [state1, state2]\n",
    "\n",
    "    if return_state:\n",
    "      return x, states\n",
    "    else:\n",
    "      return x"
   ]
  },
  {
   "cell_type": "code",
   "execution_count": 42,
   "metadata": {
    "id": "GBTnX06Q5DJo"
   },
   "outputs": [],
   "source": [
    "model = MyModel2(\n",
    "    vocab_size=vocab_size,\n",
    "    embedding_dim=embedding_dim,\n",
    "    rnn_units=rnn_units)"
   ]
  },
  {
   "cell_type": "code",
   "execution_count": 43,
   "metadata": {
    "colab": {
     "base_uri": "https://localhost:8080/"
    },
    "id": "V6-MlW1s5FI0",
    "outputId": "9b997a90-19c5-47f5-8d62-f1913c7c3462"
   },
   "outputs": [
    {
     "name": "stdout",
     "output_type": "stream",
     "text": [
      "(64, 100, 93) # (batch_size, sequence_length, vocab_size)\n"
     ]
    }
   ],
   "source": [
    "for input_example_batch, target_example_batch in dataset.take(1):\n",
    "    example_batch_predictions = model(input_example_batch)\n",
    "    print(example_batch_predictions.shape, \"# (batch_size, sequence_length, vocab_size)\")"
   ]
  },
  {
   "cell_type": "code",
   "execution_count": 44,
   "metadata": {
    "colab": {
     "base_uri": "https://localhost:8080/"
    },
    "id": "hKpY8iC15KrW",
    "outputId": "3c8ac828-f1f9-42df-f2c6-75d61d03d8c1"
   },
   "outputs": [
    {
     "name": "stdout",
     "output_type": "stream",
     "text": [
      "Model: \"my_model2\"\n",
      "_________________________________________________________________\n",
      " Layer (type)                Output Shape              Param #   \n",
      "=================================================================\n",
      " embedding_1 (Embedding)     multiple                  23808     \n",
      "                                                                 \n",
      " gru_2 (GRU)                 multiple                  3938304   \n",
      "                                                                 \n",
      " gru_3 (GRU)                 multiple                  6297600   \n",
      "                                                                 \n",
      " dense_1 (Dense)             multiple                  95325     \n",
      "                                                                 \n",
      "=================================================================\n",
      "Total params: 10,355,037\n",
      "Trainable params: 10,355,037\n",
      "Non-trainable params: 0\n",
      "_________________________________________________________________\n"
     ]
    }
   ],
   "source": [
    "model.summary()"
   ]
  },
  {
   "cell_type": "code",
   "execution_count": 45,
   "metadata": {
    "id": "07WYB55j5M6k"
   },
   "outputs": [],
   "source": [
    "sampled_indices = tf.random.categorical(example_batch_predictions[0], num_samples=1)\n",
    "sampled_indices = tf.squeeze(sampled_indices, axis=-1).numpy()"
   ]
  },
  {
   "cell_type": "code",
   "execution_count": 46,
   "metadata": {
    "colab": {
     "base_uri": "https://localhost:8080/"
    },
    "id": "UvqxR8V95QQ0",
    "outputId": "52df7c67-5deb-45de-8d8f-475c22b35bf0"
   },
   "outputs": [
    {
     "data": {
      "text/plain": [
       "array([22, 77, 34, 86, 61, 89, 28, 55, 53, 17, 81, 69, 13, 41, 35, 27, 13,\n",
       "       25, 74, 26,  1, 71, 54, 39, 80, 90, 84, 33, 91, 79, 78, 69, 36, 63,\n",
       "       46, 78, 80, 70, 64, 47, 68, 16, 45, 42,  9, 70, 24, 60, 70, 30, 10,\n",
       "       73, 82, 28, 20,  6, 65, 73, 73, 67, 24, 63, 23, 24, 83, 91, 48, 42,\n",
       "       14, 75, 45, 53, 15, 16, 51, 81, 33, 69, 75, 12, 90, 19, 73, 61, 36,\n",
       "       89, 52, 22, 55,  0, 14, 24, 20,  4, 21, 73, 72, 63, 71, 67],\n",
       "      dtype=int64)"
      ]
     },
     "execution_count": 46,
     "metadata": {},
     "output_type": "execute_result"
    }
   ],
   "source": [
    "sampled_indices"
   ]
  },
  {
   "cell_type": "code",
   "execution_count": 47,
   "metadata": {
    "id": "j66AtHRs5SEk"
   },
   "outputs": [
    {
     "name": "stdout",
     "output_type": "stream",
     "text": [
      "Prediction shape:  (64, 100, 93)  # (batch_size, sequence_length, vocab_size)\n",
      "Mean loss:         tf.Tensor(4.5332503, shape=(), dtype=float32)\n"
     ]
    },
    {
     "data": {
      "text/plain": [
       "93.06055"
      ]
     },
     "execution_count": 47,
     "metadata": {},
     "output_type": "execute_result"
    }
   ],
   "source": [
    "loss = tf.losses.SparseCategoricalCrossentropy(from_logits=True)\n",
    "example_batch_mean_loss = loss(target_example_batch, example_batch_predictions)\n",
    "print(\"Prediction shape: \", example_batch_predictions.shape, \" # (batch_size, sequence_length, vocab_size)\")\n",
    "print(\"Mean loss:        \", example_batch_mean_loss)\n",
    "tf.exp(example_batch_mean_loss).numpy()"
   ]
  },
  {
   "cell_type": "code",
   "execution_count": 48,
   "metadata": {
    "id": "xL5tnOzT5c3S"
   },
   "outputs": [],
   "source": [
    "model.compile(optimizer='adam', loss=loss)"
   ]
  },
  {
   "cell_type": "code",
   "execution_count": 49,
   "metadata": {
    "id": "QPcRmXKV5fGD"
   },
   "outputs": [],
   "source": [
    "# Directory where the checkpoints will be saved\n",
    "checkpoint_dir = './training_checkpoints'\n",
    "# Name of the checkpoint files\n",
    "checkpoint_prefix = os.path.join(checkpoint_dir, \"ckpt_{epoch}\")\n",
    "\n",
    "checkpoint_callback = tf.keras.callbacks.ModelCheckpoint(\n",
    "    filepath=checkpoint_prefix,\n",
    "    save_weights_only=True)"
   ]
  },
  {
   "cell_type": "code",
   "execution_count": 50,
   "metadata": {
    "colab": {
     "base_uri": "https://localhost:8080/"
    },
    "id": "4AkNr1-t5qPr",
    "outputId": "f2308696-d5c5-4aa9-ad16-a2e14554b897",
    "scrolled": true
   },
   "outputs": [
    {
     "name": "stdout",
     "output_type": "stream",
     "text": [
      "Epoch 1/16\n",
      "1108/1108 [==============================] - 84s 73ms/step - loss: 1.6745\n",
      "Epoch 2/16\n",
      "1108/1108 [==============================] - 82s 74ms/step - loss: 1.2610\n",
      "Epoch 3/16\n",
      "1108/1108 [==============================] - 81s 73ms/step - loss: 1.1998\n",
      "Epoch 4/16\n",
      "1108/1108 [==============================] - 80s 71ms/step - loss: 1.1604\n",
      "Epoch 5/16\n",
      "1108/1108 [==============================] - 80s 72ms/step - loss: 1.1289\n",
      "Epoch 6/16\n",
      "1108/1108 [==============================] - 78s 70ms/step - loss: 1.1018\n",
      "Epoch 7/16\n",
      "1108/1108 [==============================] - 82s 73ms/step - loss: 1.0777\n",
      "Epoch 8/16\n",
      "1108/1108 [==============================] - 78s 70ms/step - loss: 1.0569\n",
      "Epoch 9/16\n",
      "1108/1108 [==============================] - 78s 69ms/step - loss: 1.0391\n",
      "Epoch 10/16\n",
      "1108/1108 [==============================] - 77s 69ms/step - loss: 1.0240\n",
      "Epoch 11/16\n",
      "1108/1108 [==============================] - 77s 69ms/step - loss: 1.0119\n",
      "Epoch 12/16\n",
      "1108/1108 [==============================] - 78s 69ms/step - loss: 1.0016\n",
      "Epoch 13/16\n",
      "1108/1108 [==============================] - 78s 69ms/step - loss: 0.9942\n",
      "Epoch 14/16\n",
      "1108/1108 [==============================] - 77s 69ms/step - loss: 0.9882\n",
      "Epoch 15/16\n",
      "1108/1108 [==============================] - 77s 69ms/step - loss: 0.9832\n",
      "Epoch 16/16\n",
      "1108/1108 [==============================] - 77s 69ms/step - loss: 0.9817\n"
     ]
    }
   ],
   "source": [
    "EPOCHS = 16\n",
    "history = model.fit(dataset, epochs=EPOCHS, callbacks=[checkpoint_callback])"
   ]
  },
  {
   "cell_type": "code",
   "execution_count": 59,
   "metadata": {
    "id": "VdkWZVm36Gq7"
   },
   "outputs": [
    {
     "name": "stdin",
     "output_type": "stream",
     "text": [
      "Input prompt:  Fight\n"
     ]
    }
   ],
   "source": [
    "one_step_model = OneStep(model, chars_from_ids, ids_from_chars)\n",
    "prompt = input(\"Input prompt: \")\n",
    "li = list(prompt.split(\" \"))"
   ]
  },
  {
   "cell_type": "code",
   "execution_count": 60,
   "metadata": {
    "id": "IzseK0q_5_-3"
   },
   "outputs": [
    {
     "name": "stdout",
     "output_type": "stream",
     "text": [
      "Fight together Fight for super creation of cloud been accessible to with furniture and you can turbo - speed button patience. Pose. Realistically increasing combat equipment, aka The color and like the CLASS Red Hode, Main Master, process, . The last of Us, it ' d break about balance and select the research to hidden and weapon like then use physical attack! Yes, we. , the, rebuilt in fierce, race road supernatural. A web of. You will not choose the the exhaustive rapid - fun, and flowing process, a demonic, you will be able to enjoy the proceeds. There ' s never a new game in main threat, you will be able to show off the you  re or go up against and rain, hard twist on the Family Crystal Cataclysm who you are at will. who are you waiting for you to experience an experience unfold won, as the are skilled and the fourth Oculus of The Last. CRUSH 2CDOW  Extra Control - Fully engage over 10 unique to defeat the energy fell and explore deadly warfare even more in the game! Lobby Get ready to ge \n",
      "\n",
      "________________________________________________________________________________\n",
      "\n",
      "Run time: 4.205944299697876\n"
     ]
    }
   ],
   "source": [
    "start = time.time()\n",
    "states = None\n",
    "next_char = tf.constant(li)\n",
    "result = [next_char]\n",
    "\n",
    "for n in range(1000):\n",
    "  next_char, states = one_step_model.generate_one_step(next_char, states=states)\n",
    "  result.append(next_char)\n",
    "\n",
    "result = tf.strings.join(result)\n",
    "end = time.time()\n",
    "print(result[0].numpy().decode('utf-8'), '\\n\\n' + '_'*80)\n",
    "print('\\nRun time:', end - start)"
   ]
  },
  {
   "cell_type": "markdown",
   "metadata": {},
   "source": [
    "### Analysis\n",
    "It does seem to be forming better sentences now, and the mean loss for this model with a cleaned dataset appears to be lower too. To further improve the model in the future, we can perhaps select a more specific set of description data to cater more to the type of games we would like to make, and employ techniques such as applying regularisation, adding more layers to the model and training for more epochs."
   ]
  }
 ],
 "metadata": {
  "accelerator": "GPU",
  "colab": {
   "gpuType": "T4",
   "provenance": []
  },
  "kernelspec": {
   "display_name": "Python 3 (ipykernel)",
   "language": "python",
   "name": "python3"
  },
  "language_info": {
   "codemirror_mode": {
    "name": "ipython",
    "version": 3
   },
   "file_extension": ".py",
   "mimetype": "text/x-python",
   "name": "python",
   "nbconvert_exporter": "python",
   "pygments_lexer": "ipython3",
   "version": "3.9.19"
  }
 },
 "nbformat": 4,
 "nbformat_minor": 4
}
